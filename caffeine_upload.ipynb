{
 "cells": [
  {
   "cell_type": "markdown",
   "metadata": {},
   "source": [
    "# Caffeine pharmacokinetics data in SEEK\n",
    "Upload of file assets to seek via the write/read API. Experimental data sets have been digitized from literature. The respective files are now made available via LiSyM-SEEK.\n",
    "\n",
    "<img src=\"./data_extraction.png\" width=\"500\"/>\n",
    "\n",
    "Proof-of-principle by **Matthias König, Hadas Leonov & Wolfgang Müller** "
   ]
  },
  {
   "cell_type": "code",
   "execution_count": 11,
   "metadata": {},
   "outputs": [],
   "source": [
    "# important ids (seekbeta.lisym.org)\n",
    "\n",
    "# base_url = 'https://seekbeta.lisym.org/'\n",
    "\n",
    "base_url = 'https://seek.lisym.org/'\n",
    "REPLACEMENTS = {\n",
    "    'KOENIG_ID': \"17\",\n",
    "    'PROJECT_ID': \"10\",  # MM-PLF\n",
    "    'INVESTIGATION_ID': \"20\",\n",
    "    'HOMO_SAPIENS': \"950657990\",\n",
    "}\n",
    "\n",
    "# base_url = 'http://localhost:3000/'\n",
    "# REPLACEMENTS = {\n",
    "#    'KOENIG_ID': \"1\",\n",
    "#    'PROJECT_ID': \"2\",  # MM-PLF\n",
    "#    'INVESTIGATION_ID': \"1\",\n",
    "#    'HOMO_SAPIENS': \"950657990\",\n",
    "#}"
   ]
  },
  {
   "cell_type": "code",
   "execution_count": 12,
   "metadata": {
    "collapsed": false
   },
   "outputs": [],
   "source": [
    "import requests\n",
    "import json\n",
    "import string\n",
    "from pprint import pprint\n",
    "\n",
    "API_TOKEN = open(\"./token\").readline().strip() #\"user:password\" encoded in base64\n",
    "headers = {\"Authorization\": \"Basic %s\" %API_TOKEN,\n",
    "           \"Content-type\": \"application/vnd.api+json\",\n",
    "           \"Accept\": \"application/vnd.api+json\"}\n",
    "file_upload_headers = headers.copy()\n",
    "file_upload_headers.pop('Content-type');"
   ]
  },
  {
   "cell_type": "code",
   "execution_count": 13,
   "metadata": {
    "collapsed": true
   },
   "outputs": [],
   "source": [
    "def print_response(r, info=False):\n",
    "    print(r.status_code)\n",
    "    response_text = r.text\n",
    "    if (r.ok):\n",
    "        obj = json.loads(response_text)\n",
    "        try: \n",
    "            seek_id = obj['data']['id']\n",
    "        except:\n",
    "            seek_id = '-'\n",
    "        print(\"Returned successfully posted object: <{}>\".format(seek_id))\n",
    "        if info:\n",
    "            pprint(obj)\n",
    "        return obj\n",
    "    else:\n",
    "        print(\"Error: \", r.text)\n",
    "    return None"
   ]
  },
  {
   "cell_type": "code",
   "execution_count": 14,
   "metadata": {
    "collapsed": false
   },
   "outputs": [],
   "source": [
    "def init_json_data(file, replacements=REPLACEMENTS):\n",
    "    json_format = json.load(open(file))\n",
    "    json_data = json.dumps(json_format)\n",
    "    for key, value in replacements.items():\n",
    "        json_data = str.replace(json_data, key, value)\n",
    "    return json_data"
   ]
  },
  {
   "cell_type": "code",
   "execution_count": 15,
   "metadata": {},
   "outputs": [],
   "source": [
    "## Create study and investigation"
   ]
  },
  {
   "cell_type": "markdown",
   "metadata": {},
   "source": [
    "### Post caffeine study\n",
    "The investigation and project already exist and can be referenced via their respective ids. Now we create a new study for the caffeine data."
   ]
  },
  {
   "cell_type": "code",
   "execution_count": 16,
   "metadata": {
    "collapsed": false
   },
   "outputs": [
    {
     "name": "stdout",
     "output_type": "stream",
     "text": [
      "--------------------------------------------------------------------------------\n",
      "{'data': {'attributes': {'description': 'Pharmacokinetics data set for '\n",
      "                                        'caffeine',\n",
      "                         'experimentalists': '',\n",
      "                         'other_creators': '',\n",
      "                         'person_responsible_id': '17',\n",
      "                         'policy': {'access': 'view',\n",
      "                                    'permissions': [{'access': 'manage',\n",
      "                                                     'resource': {'resource_id': '10',\n",
      "                                                                  'resource_type': 'projects'}}]},\n",
      "                         'title': 'PKDB Caffeine Study'},\n",
      "          'relationships': {'creators': {'data': [{'id': '17',\n",
      "                                                   'type': 'people'}]},\n",
      "                            'investigation': {'data': {'id': '20',\n",
      "                                                       'type': 'investigations'}},\n",
      "                            'publications': {'data': []}},\n",
      "          'type': 'studies'}}\n",
      "--------------------------------------------------------------------------------\n",
      "500\n",
      "Error:  \n"
     ]
    }
   ],
   "source": [
    "study_file = \"./pkdb/json/caffeine_study.json\"\n",
    "url = base_url + \"studies\"\n",
    "json_data = init_json_data(study_file, replacements=REPLACEMENTS)\n",
    "# pprint(json_data)\n",
    "print('-'*80)\n",
    "pprint(json.loads(json_data))\n",
    "print('-'*80)\n",
    "r = requests.post(url, headers=headers, data=json_data)\n",
    "study = print_response(r)"
   ]
  },
  {
   "cell_type": "code",
   "execution_count": 17,
   "metadata": {},
   "outputs": [
    {
     "ename": "TypeError",
     "evalue": "'NoneType' object is not subscriptable",
     "output_type": "error",
     "traceback": [
      "\u001b[0;31m---------------------------------------------------------------------------\u001b[0m",
      "\u001b[0;31mTypeError\u001b[0m                                 Traceback (most recent call last)",
      "\u001b[0;32m<ipython-input-17-7a32536dcff1>\u001b[0m in \u001b[0;36m<module>\u001b[0;34m\u001b[0m\n\u001b[1;32m      1\u001b[0m \u001b[0;31m# store study id for assays\u001b[0m\u001b[0;34m\u001b[0m\u001b[0;34m\u001b[0m\u001b[0m\n\u001b[0;32m----> 2\u001b[0;31m \u001b[0mREPLACEMENTS\u001b[0m\u001b[0;34m[\u001b[0m\u001b[0;34m'STUDY_ID'\u001b[0m\u001b[0;34m]\u001b[0m \u001b[0;34m=\u001b[0m \u001b[0mstudy\u001b[0m\u001b[0;34m[\u001b[0m\u001b[0;34m'data'\u001b[0m\u001b[0;34m]\u001b[0m\u001b[0;34m[\u001b[0m\u001b[0;34m'id'\u001b[0m\u001b[0;34m]\u001b[0m\u001b[0;34m\u001b[0m\u001b[0m\n\u001b[0m",
      "\u001b[0;31mTypeError\u001b[0m: 'NoneType' object is not subscriptable"
     ]
    }
   ],
   "source": [
    "# store study id for assays\n",
    "REPLACEMENTS['STUDY_ID'] = study['data']['id']"
   ]
  },
  {
   "cell_type": "markdown",
   "metadata": {},
   "source": [
    "### Experimental assays & Data files\n",
    "Every digitized publication is handled as a separate experimental assay.\n",
    "\n",
    "The corresponding data files (CSV data) are associated as data file to the assay."
   ]
  },
  {
   "cell_type": "code",
   "execution_count": 93,
   "metadata": {},
   "outputs": [
    {
     "name": "stdout",
     "output_type": "stream",
     "text": [
      "{'Akinyinka2000',\n",
      " 'Amchin1999',\n",
      " 'Blanchard1983a',\n",
      " 'Haller2002',\n",
      " 'Healy1991',\n",
      " 'Hetzler1990',\n",
      " 'Jeppesen1996',\n",
      " 'Kakuda2014',\n",
      " 'Kaplan1997',\n",
      " 'Magnusson2008',\n",
      " 'Oh2012',\n",
      " 'Perera2011',\n",
      " 'Spigset1999a',\n",
      " 'Tanaka2014'}\n"
     ]
    }
   ],
   "source": [
    "from os import listdir\n",
    "from os.path import isfile, join\n",
    "data_dir = './pkdb/files/data'\n",
    "files = [f for f in listdir(data_dir) if isfile(join(data_dir, f))]\n",
    "author_ids = set([fname[:-4] for fname in files if fname.endswith('.csv')])\n",
    "pprint(author_ids)"
   ]
  },
  {
   "cell_type": "code",
   "execution_count": 94,
   "metadata": {
    "collapsed": false
   },
   "outputs": [
    {
     "name": "stdout",
     "output_type": "stream",
     "text": [
      "Returned successfully posted object: <118>\n",
      "Returned successfully posted object: <119>\n",
      "Returned successfully posted object: <120>\n",
      "Returned successfully posted object: <121>\n",
      "Returned successfully posted object: <122>\n",
      "Returned successfully posted object: <123>\n",
      "Returned successfully posted object: <124>\n",
      "Returned successfully posted object: <125>\n",
      "Returned successfully posted object: <126>\n",
      "Returned successfully posted object: <127>\n",
      "Returned successfully posted object: <128>\n",
      "Returned successfully posted object: <129>\n",
      "Returned successfully posted object: <130>\n",
      "Returned successfully posted object: <131>\n"
     ]
    }
   ],
   "source": [
    "# create all\n",
    "exp_assays = {}\n",
    "for author_id in author_ids:\n",
    "    REPLACEMENTS['AUTHOR_ID'] = author_id \n",
    "    REPLACEMENTS['AUTHOR_DESCRIPTION'] = '{} Description'.format(author_id)\n",
    "\n",
    "    assay_file = \"./pkdb/json/caffeine_exp_assay.json\"\n",
    "    url = base_url + \"assays\"\n",
    "    json_data = init_json_data(assay_file)\n",
    "    r = requests.post(url, headers=headers, data=json_data)\n",
    "    assay = print_response(r.text)\n",
    "    exp_assays[author_id] = assay"
   ]
  },
  {
   "cell_type": "code",
   "execution_count": 112,
   "metadata": {
    "collapsed": false
   },
   "outputs": [
    {
     "name": "stdout",
     "output_type": "stream",
     "text": [
      "Returned successfully posted object: <551>\n",
      "https://seekbeta.lisym.org/data_files/551/content_blobs/985\n",
      "Response Status: <Response [200]>\n",
      "--------------------------------------------------------------------------------\n",
      "Returned successfully posted object: <552>\n",
      "https://seekbeta.lisym.org/data_files/552/content_blobs/986\n",
      "Response Status: <Response [200]>\n",
      "--------------------------------------------------------------------------------\n",
      "Returned successfully posted object: <553>\n",
      "https://seekbeta.lisym.org/data_files/553/content_blobs/987\n",
      "Response Status: <Response [200]>\n",
      "--------------------------------------------------------------------------------\n",
      "Returned successfully posted object: <554>\n",
      "https://seekbeta.lisym.org/data_files/554/content_blobs/988\n",
      "Response Status: <Response [200]>\n",
      "--------------------------------------------------------------------------------\n",
      "Returned successfully posted object: <555>\n",
      "https://seekbeta.lisym.org/data_files/555/content_blobs/989\n",
      "Response Status: <Response [200]>\n",
      "--------------------------------------------------------------------------------\n",
      "Returned successfully posted object: <556>\n",
      "https://seekbeta.lisym.org/data_files/556/content_blobs/990\n",
      "Response Status: <Response [200]>\n",
      "--------------------------------------------------------------------------------\n",
      "Returned successfully posted object: <557>\n",
      "https://seekbeta.lisym.org/data_files/557/content_blobs/991\n",
      "Response Status: <Response [200]>\n",
      "--------------------------------------------------------------------------------\n",
      "Returned successfully posted object: <558>\n",
      "https://seekbeta.lisym.org/data_files/558/content_blobs/992\n",
      "Response Status: <Response [200]>\n",
      "--------------------------------------------------------------------------------\n",
      "Returned successfully posted object: <559>\n",
      "https://seekbeta.lisym.org/data_files/559/content_blobs/993\n",
      "Response Status: <Response [200]>\n",
      "--------------------------------------------------------------------------------\n",
      "Returned successfully posted object: <560>\n",
      "https://seekbeta.lisym.org/data_files/560/content_blobs/994\n",
      "Response Status: <Response [200]>\n",
      "--------------------------------------------------------------------------------\n",
      "Returned successfully posted object: <561>\n",
      "https://seekbeta.lisym.org/data_files/561/content_blobs/995\n",
      "Response Status: <Response [200]>\n",
      "--------------------------------------------------------------------------------\n",
      "Returned successfully posted object: <562>\n",
      "https://seekbeta.lisym.org/data_files/562/content_blobs/996\n",
      "Response Status: <Response [200]>\n",
      "--------------------------------------------------------------------------------\n",
      "Returned successfully posted object: <563>\n",
      "https://seekbeta.lisym.org/data_files/563/content_blobs/997\n",
      "Response Status: <Response [200]>\n",
      "--------------------------------------------------------------------------------\n",
      "Returned successfully posted object: <564>\n",
      "https://seekbeta.lisym.org/data_files/564/content_blobs/998\n",
      "Response Status: <Response [200]>\n",
      "--------------------------------------------------------------------------------\n"
     ]
    }
   ],
   "source": [
    "# -------------\n",
    "# CSV\n",
    "# -------------\n",
    "csv_datafiles = {}\n",
    "for author_id in author_ids:\n",
    "    # get the correct assay\n",
    "    assay = exp_assays[author_id]\n",
    "\n",
    "    REPLACEMENTS['ASSAY_ID'] = assay['data']['id']\n",
    "    REPLACEMENTS['AUTHOR_ID'] = author_id \n",
    "    REPLACEMENTS['AUTHOR_DESCRIPTION'] = '{} Description'.format(author_id)\n",
    "    REPLACEMENTS['FILENAME'] = '{}.csv'.format(author_id)\n",
    "    REPLACEMENTS['CONTENT_TYPE'] = 'text/csv'\n",
    "    REPLACEMENTS['TITLE'] = \"CSV ({})\".format(author_id)\n",
    "\n",
    "    # create the metadata\n",
    "    REPLACEMENTS['CONTENT_TYPE'] = \"text/csv\"\n",
    "    df_file = \"./pkdb/json/caffeine_data_file.json\"\n",
    "    url = base_url + \"data_files\"\n",
    "    json_data = init_json_data(df_file)\n",
    "    r = requests.post(url, headers=headers, data=json_data)\n",
    "    datafile = print_response(r.text)\n",
    "    csv_datafiles[author_id] = datafile\n",
    "\n",
    "    # second, add the file (PUT)\n",
    "    # THIS IS NOT WORKING, GETTING 404s\n",
    "    \n",
    "    filepath = './pkdb/files/data/{}.csv'.format(author_id)\n",
    "    url = datafile['data']['attributes']['content_blobs'][0]['link']  # content_blobs array size = 1\n",
    "    # bugfix for incorrect prefix\n",
    "    url = url.replace('http://seek', 'https://seekbeta')\n",
    "    print(url)\n",
    "    r = requests.put(url, headers=file_upload_headers, data=open(filepath, 'rb'))\n",
    "    print(\"Response Status:\", r)\n",
    "    print('-'*80)"
   ]
  },
  {
   "cell_type": "code",
   "execution_count": 115,
   "metadata": {},
   "outputs": [
    {
     "name": "stdout",
     "output_type": "stream",
     "text": [
      "Returned successfully posted object: <579>\n",
      "https://seekbeta.lisym.org/data_files/579/content_blobs/1013\n",
      "Response Status: <Response [200]>\n",
      "--------------------------------------------------------------------------------\n",
      "Returned successfully posted object: <580>\n",
      "https://seekbeta.lisym.org/data_files/580/content_blobs/1014\n",
      "Response Status: <Response [200]>\n",
      "--------------------------------------------------------------------------------\n",
      "Returned successfully posted object: <581>\n",
      "https://seekbeta.lisym.org/data_files/581/content_blobs/1015\n",
      "Response Status: <Response [200]>\n",
      "--------------------------------------------------------------------------------\n",
      "Returned successfully posted object: <582>\n",
      "https://seekbeta.lisym.org/data_files/582/content_blobs/1016\n",
      "Response Status: <Response [200]>\n",
      "--------------------------------------------------------------------------------\n",
      "Returned successfully posted object: <583>\n",
      "https://seekbeta.lisym.org/data_files/583/content_blobs/1017\n",
      "Response Status: <Response [200]>\n",
      "--------------------------------------------------------------------------------\n",
      "Returned successfully posted object: <584>\n",
      "https://seekbeta.lisym.org/data_files/584/content_blobs/1018\n",
      "Response Status: <Response [200]>\n",
      "--------------------------------------------------------------------------------\n",
      "Returned successfully posted object: <585>\n",
      "https://seekbeta.lisym.org/data_files/585/content_blobs/1019\n",
      "Response Status: <Response [200]>\n",
      "--------------------------------------------------------------------------------\n",
      "Returned successfully posted object: <586>\n",
      "https://seekbeta.lisym.org/data_files/586/content_blobs/1020\n",
      "Response Status: <Response [200]>\n",
      "--------------------------------------------------------------------------------\n",
      "Returned successfully posted object: <587>\n",
      "https://seekbeta.lisym.org/data_files/587/content_blobs/1021\n",
      "Response Status: <Response [200]>\n",
      "--------------------------------------------------------------------------------\n",
      "Returned successfully posted object: <588>\n",
      "https://seekbeta.lisym.org/data_files/588/content_blobs/1022\n",
      "Response Status: <Response [200]>\n",
      "--------------------------------------------------------------------------------\n",
      "Returned successfully posted object: <589>\n",
      "https://seekbeta.lisym.org/data_files/589/content_blobs/1023\n",
      "Response Status: <Response [200]>\n",
      "--------------------------------------------------------------------------------\n",
      "Returned successfully posted object: <590>\n",
      "https://seekbeta.lisym.org/data_files/590/content_blobs/1024\n",
      "Response Status: <Response [200]>\n",
      "--------------------------------------------------------------------------------\n",
      "Returned successfully posted object: <591>\n",
      "https://seekbeta.lisym.org/data_files/591/content_blobs/1025\n",
      "Response Status: <Response [200]>\n",
      "--------------------------------------------------------------------------------\n",
      "Returned successfully posted object: <592>\n",
      "https://seekbeta.lisym.org/data_files/592/content_blobs/1026\n",
      "Response Status: <Response [200]>\n",
      "--------------------------------------------------------------------------------\n"
     ]
    }
   ],
   "source": [
    "# -------------\n",
    "# PNG\n",
    "# -------------\n",
    "png_datafiles = {}\n",
    "for author_id in author_ids:\n",
    "    # get the correct assay\n",
    "    assay = exp_assays[author_id]\n",
    "\n",
    "    REPLACEMENTS['ASSAY_ID'] = assay['data']['id']\n",
    "    REPLACEMENTS['AUTHOR_ID'] = author_id \n",
    "    REPLACEMENTS['AUTHOR_DESCRIPTION'] = '{} Description'.format(author_id)\n",
    "    REPLACEMENTS['FILENAME'] = '{}.png'.format(author_id)\n",
    "    REPLACEMENTS['CONTENT_TYPE'] = 'image/png'\n",
    "    REPLACEMENTS['TITLE'] = \"PNG ({})\".format(author_id)\n",
    "\n",
    "    # create the metadata\n",
    "    REPLACEMENTS['CONTENT_TYPE'] = \"image/png\"\n",
    "    df_file = \"./pkdb/json/caffeine_data_file.json\"\n",
    "    url = base_url + \"data_files\"\n",
    "    json_data = init_json_data(df_file)\n",
    "    r = requests.post(url, headers=headers, data=json_data)\n",
    "    datafile = print_response(r.text)\n",
    "    png_datafiles[author_id] = datafile\n",
    "\n",
    "    # second, add the file (PUT)\n",
    "    # THIS IS NOT WORKING, GETTING 404s\n",
    "    filepath = './pkdb/files/data/{}.png'.format(author_id)\n",
    "    url = datafile['data']['attributes']['content_blobs'][0]['link']  # content_blobs array size = 1\n",
    "    # bugfix for incorrect prefix\n",
    "    url = url.replace('http://seek', 'https://seekbeta')\n",
    "    print(url)\n",
    "    r = requests.put(url, headers=file_upload_headers, data=open(filepath, 'rb'))\n",
    "    print(\"Response Status:\", r)\n",
    "    print('-'*80)"
   ]
  },
  {
   "cell_type": "markdown",
   "metadata": {},
   "source": [
    "# Cleanup SEEK"
   ]
  },
  {
   "cell_type": "code",
   "execution_count": 114,
   "metadata": {},
   "outputs": [
    {
     "name": "stdout",
     "output_type": "stream",
     "text": [
      "https://seekbeta.lisym.org/data_files/578/content_blobs/1012\n",
      "Returned successfully posted object: <->\n",
      "https://seekbeta.lisym.org/data_files/565.json\n",
      "Returned successfully posted object: <->\n",
      "https://seekbeta.lisym.org/data_files/566.json\n",
      "Returned successfully posted object: <->\n",
      "https://seekbeta.lisym.org/data_files/567.json\n",
      "Returned successfully posted object: <->\n",
      "https://seekbeta.lisym.org/data_files/568.json\n",
      "Returned successfully posted object: <->\n",
      "https://seekbeta.lisym.org/data_files/569.json\n",
      "Returned successfully posted object: <->\n",
      "https://seekbeta.lisym.org/data_files/570.json\n",
      "Returned successfully posted object: <->\n",
      "https://seekbeta.lisym.org/data_files/571.json\n",
      "Returned successfully posted object: <->\n",
      "https://seekbeta.lisym.org/data_files/572.json\n",
      "Returned successfully posted object: <->\n",
      "https://seekbeta.lisym.org/data_files/573.json\n",
      "Returned successfully posted object: <->\n",
      "https://seekbeta.lisym.org/data_files/574.json\n",
      "Returned successfully posted object: <->\n",
      "https://seekbeta.lisym.org/data_files/575.json\n",
      "Returned successfully posted object: <->\n",
      "https://seekbeta.lisym.org/data_files/576.json\n",
      "Returned successfully posted object: <->\n",
      "https://seekbeta.lisym.org/data_files/577.json\n",
      "Returned successfully posted object: <->\n"
     ]
    }
   ],
   "source": [
    "# delete datafiles (csv)\n",
    "'''\n",
    "for datafile in csv_datafiles.values():\n",
    "    datafile_id = datafile['data']['id']\n",
    "    print(url)\n",
    "    url = base_url + \"data_files/{}.json\".format(datafile_id)\n",
    "    r = requests.delete(url, headers=headers)\n",
    "    print_response(r.text)\n",
    "'''\n",
    "# delete datafiles (png)\n",
    "for datafile in png_datafiles.values():\n",
    "    datafile_id = datafile['data']['id']\n",
    "    print(url)\n",
    "    url = base_url + \"data_files/{}.json\".format(datafile_id)\n",
    "    r = requests.delete(url, headers=headers)\n",
    "    print_response(r.text)"
   ]
  },
  {
   "cell_type": "code",
   "execution_count": 100,
   "metadata": {},
   "outputs": [
    {
     "name": "stdout",
     "output_type": "stream",
     "text": [
      "Returned successfully posted object: <->\n",
      "Returned successfully posted object: <->\n",
      "Returned successfully posted object: <->\n",
      "Returned successfully posted object: <->\n",
      "Returned successfully posted object: <->\n",
      "Returned successfully posted object: <->\n",
      "Returned successfully posted object: <->\n",
      "Returned successfully posted object: <->\n",
      "Returned successfully posted object: <->\n",
      "Returned successfully posted object: <->\n",
      "Returned successfully posted object: <->\n",
      "Returned successfully posted object: <->\n",
      "Returned successfully posted object: <->\n",
      "Returned successfully posted object: <->\n"
     ]
    }
   ],
   "source": [
    "for id in range(418, 432):\n",
    "    url = base_url + \"data_files/{}.json\".format(id)\n",
    "    r = requests.delete(url, headers=headers)\n",
    "    print_response(r.text)"
   ]
  },
  {
   "cell_type": "code",
   "execution_count": 92,
   "metadata": {},
   "outputs": [
    {
     "name": "stdout",
     "output_type": "stream",
     "text": [
      "https://seekbeta.lisym.org/assays/104.json\n",
      "Returned successfully posted object: <->\n",
      "https://seekbeta.lisym.org/assays/105.json\n",
      "Returned successfully posted object: <->\n",
      "https://seekbeta.lisym.org/assays/106.json\n",
      "Returned successfully posted object: <->\n",
      "https://seekbeta.lisym.org/assays/107.json\n",
      "Returned successfully posted object: <->\n",
      "https://seekbeta.lisym.org/assays/108.json\n",
      "Returned successfully posted object: <->\n",
      "https://seekbeta.lisym.org/assays/109.json\n",
      "Returned successfully posted object: <->\n",
      "https://seekbeta.lisym.org/assays/110.json\n",
      "Returned successfully posted object: <->\n",
      "https://seekbeta.lisym.org/assays/111.json\n",
      "Returned successfully posted object: <->\n",
      "https://seekbeta.lisym.org/assays/112.json\n",
      "Returned successfully posted object: <->\n",
      "https://seekbeta.lisym.org/assays/113.json\n",
      "Returned successfully posted object: <->\n",
      "https://seekbeta.lisym.org/assays/114.json\n",
      "Returned successfully posted object: <->\n",
      "https://seekbeta.lisym.org/assays/115.json\n",
      "Returned successfully posted object: <->\n",
      "https://seekbeta.lisym.org/assays/116.json\n",
      "Returned successfully posted object: <->\n",
      "https://seekbeta.lisym.org/assays/117.json\n",
      "Returned successfully posted object: <->\n"
     ]
    }
   ],
   "source": [
    "# delete experimental assays\n",
    "for assay in exp_assays.values():\n",
    "    assay_id = assay['data']['id']\n",
    "    url = base_url + \"assays/{}.json\".format(assay_id)\n",
    "    print(url)\n",
    "    r = requests.delete(url, headers=headers)\n",
    "    print_response(r.text)  "
   ]
  },
  {
   "cell_type": "code",
   "execution_count": null,
   "metadata": {},
   "outputs": [],
   "source": [
    "# delete study\n",
    "study_id = study['data']['id']\n",
    "url = base_url + \"studies/{}.json\".format(study_id)\n",
    "print(url)\n",
    "r = requests.delete(url, headers=headers)\n",
    "print_response(r.text)"
   ]
  }
 ],
 "metadata": {
  "kernelspec": {
   "display_name": "seek",
   "language": "python",
   "name": "seek"
  },
  "language_info": {
   "codemirror_mode": {
    "name": "ipython",
    "version": 3
   },
   "file_extension": ".py",
   "mimetype": "text/x-python",
   "name": "python",
   "nbconvert_exporter": "python",
   "pygments_lexer": "ipython3",
   "version": "3.5.2"
  }
 },
 "nbformat": 4,
 "nbformat_minor": 2
}
