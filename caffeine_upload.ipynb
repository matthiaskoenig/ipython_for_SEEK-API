{
 "cells": [
  {
   "cell_type": "markdown",
   "metadata": {},
   "source": [
    "# Caffeine pharmacokinetics data in SEEK\n",
    "Upload of file assets to seek via the write/read API. Experimental data sets have been digitized from literature. The respective files are now made available via LiSyM-SEEK.\n",
    "\n",
    "<img src=\"./data_extraction.png\" width=\"500\"/>\n",
    "\n",
    "Proof-of-principle by **Matthias König, Hadas Leonov & Wolfgang Müller** "
   ]
  },
  {
   "cell_type": "code",
   "execution_count": 1,
   "metadata": {},
   "outputs": [],
   "source": [
    "# important ids (seekbeta.lisym.org)\n",
    "\n",
    "# base_url = 'https://seekbeta.lisym.org/'\n",
    "\n",
    "base_url = 'https://seek.lisym.org/'\n",
    "API_TOKEN = open(\"./token\").readline().strip() #\"user:password\" encoded in base64\n",
    "REPLACEMENTS = {\n",
    "    'KOENIG_ID': \"17\",\n",
    "    'PROJECT_ID': \"10\",  # MM-PLF\n",
    "    'INVESTIGATION_ID': \"20\",\n",
    "    'HOMO_SAPIENS': \"950657990\",\n",
    "}\n",
    "\n",
    "\n",
    "#base_url = 'http://localhost:3000/'\n",
    "#API_TOKEN = open(\"./token_localhost\").readline().strip() #\"user:password\" encoded in base64\n",
    "#REPLACEMENTS = {\n",
    "#    'KOENIG_ID': \"1\",\n",
    "#    'PROJECT_ID': \"2\",  # MM-PLF\n",
    "#    'INVESTIGATION_ID': \"1\",\n",
    "#    'HOMO_SAPIENS': \"950657990\",\n",
    "#}"
   ]
  },
  {
   "cell_type": "code",
   "execution_count": 2,
   "metadata": {
    "collapsed": false
   },
   "outputs": [],
   "source": [
    "import requests\n",
    "import json\n",
    "import string\n",
    "from pprint import pprint\n",
    "\n",
    "headers = {\"Authorization\": \"Basic %s\" %API_TOKEN,\n",
    "           \"Content-type\": \"application/vnd.api+json\",\n",
    "           \"Accept\": \"application/vnd.api+json\"}\n",
    "file_upload_headers = headers.copy()\n",
    "file_upload_headers.pop('Content-type');"
   ]
  },
  {
   "cell_type": "code",
   "execution_count": 3,
   "metadata": {
    "collapsed": true
   },
   "outputs": [],
   "source": [
    "def print_response(r, info=False):\n",
    "    print(r.status_code)\n",
    "    response_text = r.text\n",
    "    if (r.ok):\n",
    "        obj = json.loads(response_text)\n",
    "        try: \n",
    "            seek_id = obj['data']['id']\n",
    "        except:\n",
    "            seek_id = '-'\n",
    "        print(\"Returned successfully posted object: <{}>\".format(seek_id))\n",
    "        if info:\n",
    "            pprint(obj)\n",
    "        return obj\n",
    "    else:\n",
    "        print(\"Error: \", r.text)\n",
    "    return None"
   ]
  },
  {
   "cell_type": "code",
   "execution_count": 4,
   "metadata": {
    "collapsed": false
   },
   "outputs": [],
   "source": [
    "def init_json_data(file, replacements=REPLACEMENTS):\n",
    "    json_format = json.load(open(file))\n",
    "    json_data = json.dumps(json_format)\n",
    "    for key, value in replacements.items():\n",
    "        json_data = str.replace(json_data, key, value)\n",
    "    return json_data"
   ]
  },
  {
   "cell_type": "markdown",
   "metadata": {},
   "source": [
    "### Post caffeine study\n",
    "The investigation and project already exist and can be referenced via their respective ids. Now we create a new study for the caffeine data."
   ]
  },
  {
   "cell_type": "code",
   "execution_count": 5,
   "metadata": {
    "collapsed": false
   },
   "outputs": [
    {
     "name": "stdout",
     "output_type": "stream",
     "text": [
      "--------------------------------------------------------------------------------\n",
      "{'data': {'attributes': {'description': 'Pharmacokinetics data set for '\n",
      "                                        'caffeine',\n",
      "                         'experimentalists': '',\n",
      "                         'other_creators': '',\n",
      "                         'person_responsible_id': '17',\n",
      "                         'policy': {'access': 'view',\n",
      "                                    'permissions': [{'access': 'manage',\n",
      "                                                     'resource': {'id': '10',\n",
      "                                                                  'type': 'projects'}}]},\n",
      "                         'title': 'PKDB Caffeine Study'},\n",
      "          'relationships': {'creators': {'data': [{'id': '17',\n",
      "                                                   'type': 'people'}]},\n",
      "                            'investigation': {'data': {'id': '20',\n",
      "                                                       'type': 'investigations'}},\n",
      "                            'publications': {'data': []}},\n",
      "          'type': 'studies'}}\n",
      "--------------------------------------------------------------------------------\n",
      "200\n",
      "Returned successfully posted object: <13>\n"
     ]
    }
   ],
   "source": [
    "study_file = \"./pkdb/json/caffeine_study.json\"\n",
    "url = base_url + \"studies\"\n",
    "json_data = init_json_data(study_file, replacements=REPLACEMENTS)\n",
    "# pprint(json_data)\n",
    "print('-'*80)\n",
    "pprint(json.loads(json_data))\n",
    "print('-'*80)\n",
    "r = requests.post(url, headers=headers, data=json_data)\n",
    "study = print_response(r)"
   ]
  },
  {
   "cell_type": "code",
   "execution_count": 6,
   "metadata": {},
   "outputs": [],
   "source": [
    "# store study id for assays\n",
    "REPLACEMENTS['STUDY_ID'] = study['data']['id']"
   ]
  },
  {
   "cell_type": "markdown",
   "metadata": {},
   "source": [
    "### Experimental assays & Data files\n",
    "Every digitized publication is handled as a separate experimental assay.\n",
    "\n",
    "The corresponding data files (CSV data) are associated as data file to the assay."
   ]
  },
  {
   "cell_type": "code",
   "execution_count": 7,
   "metadata": {},
   "outputs": [
    {
     "name": "stdout",
     "output_type": "stream",
     "text": [
      "{'Akinyinka2000',\n",
      " 'Amchin1999',\n",
      " 'Blanchard1983a',\n",
      " 'Haller2002',\n",
      " 'Healy1991',\n",
      " 'Hetzler1990',\n",
      " 'Jeppesen1996',\n",
      " 'Kakuda2014',\n",
      " 'Kaplan1997',\n",
      " 'Magnusson2008',\n",
      " 'Oh2012',\n",
      " 'Perera2011',\n",
      " 'Spigset1999a',\n",
      " 'Tanaka2014'}\n"
     ]
    }
   ],
   "source": [
    "from os import listdir\n",
    "from os.path import isfile, join\n",
    "data_dir = './pkdb/files/data'\n",
    "files = [f for f in listdir(data_dir) if isfile(join(data_dir, f))]\n",
    "author_ids = set([fname[:-4] for fname in files if fname.endswith('.csv')])\n",
    "pprint(author_ids)"
   ]
  },
  {
   "cell_type": "code",
   "execution_count": 8,
   "metadata": {
    "collapsed": false
   },
   "outputs": [
    {
     "name": "stdout",
     "output_type": "stream",
     "text": [
      "200\n",
      "Returned successfully posted object: <28>\n",
      "200\n",
      "Returned successfully posted object: <29>\n",
      "200\n",
      "Returned successfully posted object: <30>\n",
      "200\n",
      "Returned successfully posted object: <31>\n",
      "200\n",
      "Returned successfully posted object: <32>\n",
      "200\n",
      "Returned successfully posted object: <33>\n",
      "200\n",
      "Returned successfully posted object: <34>\n",
      "200\n",
      "Returned successfully posted object: <35>\n",
      "200\n",
      "Returned successfully posted object: <36>\n",
      "200\n",
      "Returned successfully posted object: <37>\n",
      "200\n",
      "Returned successfully posted object: <38>\n",
      "200\n",
      "Returned successfully posted object: <39>\n",
      "200\n",
      "Returned successfully posted object: <40>\n",
      "200\n",
      "Returned successfully posted object: <41>\n"
     ]
    }
   ],
   "source": [
    "# create all\n",
    "exp_assays = {}\n",
    "for author_id in author_ids:\n",
    "    REPLACEMENTS['AUTHOR_ID'] = author_id \n",
    "    REPLACEMENTS['AUTHOR_DESCRIPTION'] = '{} Description'.format(author_id)\n",
    "\n",
    "    assay_file = \"./pkdb/json/caffeine_exp_assay.json\"\n",
    "    url = base_url + \"assays\"\n",
    "    json_data = init_json_data(assay_file)\n",
    "    r = requests.post(url, headers=headers, data=json_data)\n",
    "    assay = print_response(r)\n",
    "    exp_assays[author_id] = assay"
   ]
  },
  {
   "cell_type": "code",
   "execution_count": 10,
   "metadata": {
    "collapsed": false
   },
   "outputs": [
    {
     "name": "stdout",
     "output_type": "stream",
     "text": [
      "*** Amchin1999 ***\n",
      "200\n",
      "Returned successfully posted object: <129>\n",
      "https://seekbeta.lisym.org/data_files/129/content_blobs/339\n",
      "Response Status: <Response [401]>\n",
      "--------------------------------------------------------------------------------\n",
      "*** Tanaka2014 ***\n",
      "200\n",
      "Returned successfully posted object: <130>\n",
      "https://seekbeta.lisym.org/data_files/130/content_blobs/340\n",
      "Response Status: <Response [401]>\n",
      "--------------------------------------------------------------------------------\n",
      "*** Perera2011 ***\n",
      "200\n",
      "Returned successfully posted object: <131>\n",
      "https://seekbeta.lisym.org/data_files/131/content_blobs/341\n",
      "Response Status: <Response [401]>\n",
      "--------------------------------------------------------------------------------\n",
      "*** Healy1991 ***\n",
      "200\n",
      "Returned successfully posted object: <132>\n",
      "https://seekbeta.lisym.org/data_files/132/content_blobs/342\n",
      "Response Status: <Response [401]>\n",
      "--------------------------------------------------------------------------------\n",
      "*** Hetzler1990 ***\n",
      "200\n",
      "Returned successfully posted object: <133>\n",
      "https://seekbeta.lisym.org/data_files/133/content_blobs/343\n",
      "Response Status: <Response [401]>\n",
      "--------------------------------------------------------------------------------\n",
      "*** Spigset1999a ***\n",
      "200\n",
      "Returned successfully posted object: <134>\n",
      "https://seekbeta.lisym.org/data_files/134/content_blobs/344\n",
      "Response Status: <Response [401]>\n",
      "--------------------------------------------------------------------------------\n",
      "*** Haller2002 ***\n",
      "200\n",
      "Returned successfully posted object: <135>\n",
      "https://seekbeta.lisym.org/data_files/135/content_blobs/345\n",
      "Response Status: <Response [401]>\n",
      "--------------------------------------------------------------------------------\n",
      "*** Kakuda2014 ***\n",
      "200\n",
      "Returned successfully posted object: <136>\n",
      "https://seekbeta.lisym.org/data_files/136/content_blobs/346\n",
      "Response Status: <Response [401]>\n",
      "--------------------------------------------------------------------------------\n",
      "*** Blanchard1983a ***\n",
      "200\n",
      "Returned successfully posted object: <137>\n",
      "https://seekbeta.lisym.org/data_files/137/content_blobs/347\n",
      "Response Status: <Response [401]>\n",
      "--------------------------------------------------------------------------------\n",
      "*** Oh2012 ***\n",
      "200\n",
      "Returned successfully posted object: <138>\n",
      "https://seekbeta.lisym.org/data_files/138/content_blobs/348\n",
      "Response Status: <Response [401]>\n",
      "--------------------------------------------------------------------------------\n",
      "*** Akinyinka2000 ***\n",
      "200\n",
      "Returned successfully posted object: <139>\n",
      "https://seekbeta.lisym.org/data_files/139/content_blobs/349\n",
      "Response Status: <Response [401]>\n",
      "--------------------------------------------------------------------------------\n",
      "*** Jeppesen1996 ***\n",
      "200\n",
      "Returned successfully posted object: <140>\n",
      "https://seekbeta.lisym.org/data_files/140/content_blobs/350\n",
      "Response Status: <Response [401]>\n",
      "--------------------------------------------------------------------------------\n",
      "*** Kaplan1997 ***\n",
      "200\n",
      "Returned successfully posted object: <141>\n",
      "https://seekbeta.lisym.org/data_files/141/content_blobs/351\n",
      "Response Status: <Response [401]>\n",
      "--------------------------------------------------------------------------------\n",
      "*** Magnusson2008 ***\n",
      "200\n",
      "Returned successfully posted object: <142>\n",
      "https://seekbeta.lisym.org/data_files/142/content_blobs/352\n",
      "Response Status: <Response [401]>\n",
      "--------------------------------------------------------------------------------\n"
     ]
    }
   ],
   "source": [
    "# -------------\n",
    "# CSV\n",
    "# -------------\n",
    "csv_datafiles = {}\n",
    "for author_id in author_ids:\n",
    "    print('*** ' + author_id + ' ***')\n",
    "    # get the correct assay\n",
    "    assay = exp_assays[author_id]\n",
    "\n",
    "    REPLACEMENTS['ASSAY_ID'] = assay['data']['id']\n",
    "    REPLACEMENTS['AUTHOR_ID'] = author_id \n",
    "    REPLACEMENTS['AUTHOR_DESCRIPTION'] = '{} Description'.format(author_id)\n",
    "    REPLACEMENTS['FILENAME'] = '{}.csv'.format(author_id)\n",
    "    REPLACEMENTS['CONTENT_TYPE'] = 'text/csv'\n",
    "    REPLACEMENTS['TITLE'] = \"CSV ({})\".format(author_id)\n",
    "\n",
    "    # create the metadata\n",
    "    REPLACEMENTS['CONTENT_TYPE'] = \"text/csv\"\n",
    "    df_file = \"./pkdb/json/caffeine_data_file.json\"\n",
    "    url = base_url + \"data_files\"\n",
    "    json_data = init_json_data(df_file)\n",
    "    r = requests.post(url, headers=headers, data=json_data)\n",
    "    datafile = print_response(r)\n",
    "    csv_datafiles[author_id] = datafile\n",
    "\n",
    "    # second, add the file (PUT)\n",
    "    # THIS IS NOT WORKING, GETTING 404s\n",
    "    \n",
    "    filepath = './pkdb/files/data/{}.csv'.format(author_id)\n",
    "    url = datafile['data']['attributes']['content_blobs'][0]['link']  # content_blobs array size = 1\n",
    "    # bugfix for incorrect prefix\n",
    "    url = url.replace('http://seek', 'https://seekbeta')\n",
    "    print(url)\n",
    "    r = requests.put(url, headers=file_upload_headers, data=open(filepath, 'rb'))\n",
    "    print(\"Response Status:\", r)\n",
    "    print('-'*80)"
   ]
  },
  {
   "cell_type": "code",
   "execution_count": 11,
   "metadata": {},
   "outputs": [
    {
     "name": "stdout",
     "output_type": "stream",
     "text": [
      "*** Amchin1999 ***\n",
      "200\n",
      "Returned successfully posted object: <143>\n",
      "https://seekbeta.lisym.org/data_files/143/content_blobs/353\n",
      "Response Status: <Response [401]>\n",
      "--------------------------------------------------------------------------------\n",
      "*** Tanaka2014 ***\n",
      "200\n",
      "Returned successfully posted object: <144>\n",
      "https://seekbeta.lisym.org/data_files/144/content_blobs/354\n",
      "Response Status: <Response [401]>\n",
      "--------------------------------------------------------------------------------\n",
      "*** Perera2011 ***\n",
      "200\n",
      "Returned successfully posted object: <145>\n",
      "https://seekbeta.lisym.org/data_files/145/content_blobs/355\n",
      "Response Status: <Response [401]>\n",
      "--------------------------------------------------------------------------------\n",
      "*** Healy1991 ***\n",
      "200\n",
      "Returned successfully posted object: <146>\n",
      "https://seekbeta.lisym.org/data_files/146/content_blobs/356\n",
      "Response Status: <Response [401]>\n",
      "--------------------------------------------------------------------------------\n",
      "*** Hetzler1990 ***\n",
      "200\n",
      "Returned successfully posted object: <147>\n",
      "https://seekbeta.lisym.org/data_files/147/content_blobs/357\n",
      "Response Status: <Response [401]>\n",
      "--------------------------------------------------------------------------------\n",
      "*** Spigset1999a ***\n",
      "200\n",
      "Returned successfully posted object: <148>\n",
      "https://seekbeta.lisym.org/data_files/148/content_blobs/358\n",
      "Response Status: <Response [401]>\n",
      "--------------------------------------------------------------------------------\n",
      "*** Haller2002 ***\n",
      "200\n",
      "Returned successfully posted object: <149>\n",
      "https://seekbeta.lisym.org/data_files/149/content_blobs/359\n",
      "Response Status: <Response [401]>\n",
      "--------------------------------------------------------------------------------\n",
      "*** Kakuda2014 ***\n",
      "200\n",
      "Returned successfully posted object: <150>\n",
      "https://seekbeta.lisym.org/data_files/150/content_blobs/360\n",
      "Response Status: <Response [401]>\n",
      "--------------------------------------------------------------------------------\n",
      "*** Blanchard1983a ***\n",
      "200\n",
      "Returned successfully posted object: <151>\n",
      "https://seekbeta.lisym.org/data_files/151/content_blobs/361\n",
      "Response Status: <Response [401]>\n",
      "--------------------------------------------------------------------------------\n",
      "*** Oh2012 ***\n",
      "200\n",
      "Returned successfully posted object: <152>\n",
      "https://seekbeta.lisym.org/data_files/152/content_blobs/362\n",
      "Response Status: <Response [401]>\n",
      "--------------------------------------------------------------------------------\n",
      "*** Akinyinka2000 ***\n",
      "200\n",
      "Returned successfully posted object: <153>\n",
      "https://seekbeta.lisym.org/data_files/153/content_blobs/363\n",
      "Response Status: <Response [401]>\n",
      "--------------------------------------------------------------------------------\n",
      "*** Jeppesen1996 ***\n",
      "200\n",
      "Returned successfully posted object: <154>\n",
      "https://seekbeta.lisym.org/data_files/154/content_blobs/364\n",
      "Response Status: <Response [401]>\n",
      "--------------------------------------------------------------------------------\n",
      "*** Kaplan1997 ***\n",
      "200\n",
      "Returned successfully posted object: <155>\n",
      "https://seekbeta.lisym.org/data_files/155/content_blobs/365\n",
      "Response Status: <Response [401]>\n",
      "--------------------------------------------------------------------------------\n",
      "*** Magnusson2008 ***\n",
      "200\n",
      "Returned successfully posted object: <156>\n",
      "https://seekbeta.lisym.org/data_files/156/content_blobs/366\n",
      "Response Status: <Response [401]>\n",
      "--------------------------------------------------------------------------------\n"
     ]
    }
   ],
   "source": [
    "# -------------\n",
    "# PNG\n",
    "# -------------\n",
    "png_datafiles = {}\n",
    "for author_id in author_ids:\n",
    "    print('*** ' + author_id + ' ***')\n",
    "    # get the correct assay\n",
    "    assay = exp_assays[author_id]\n",
    "\n",
    "    REPLACEMENTS['ASSAY_ID'] = assay['data']['id']\n",
    "    REPLACEMENTS['AUTHOR_ID'] = author_id \n",
    "    REPLACEMENTS['AUTHOR_DESCRIPTION'] = '{} Description'.format(author_id)\n",
    "    REPLACEMENTS['FILENAME'] = '{}.png'.format(author_id)\n",
    "    REPLACEMENTS['CONTENT_TYPE'] = 'image/png'\n",
    "    REPLACEMENTS['TITLE'] = \"PNG ({})\".format(author_id)\n",
    "\n",
    "    # create the metadata\n",
    "    REPLACEMENTS['CONTENT_TYPE'] = \"image/png\"\n",
    "    df_file = \"./pkdb/json/caffeine_data_file.json\"\n",
    "    url = base_url + \"data_files\"\n",
    "    json_data = init_json_data(df_file)\n",
    "    r = requests.post(url, headers=headers, data=json_data)\n",
    "    datafile = print_response(r)\n",
    "    png_datafiles[author_id] = datafile\n",
    "\n",
    "    # second, add the file (PUT)\n",
    "    # THIS IS NOT WORKING, GETTING 404s\n",
    "    filepath = './pkdb/files/data/{}.png'.format(author_id)\n",
    "    url = datafile['data']['attributes']['content_blobs'][0]['link']  # content_blobs array size = 1\n",
    "    # bugfix for incorrect prefix\n",
    "    url = url.replace('http://seek', 'https://seekbeta')\n",
    "    print(url)\n",
    "    r = requests.put(url, headers=file_upload_headers, data=open(filepath, 'rb'))\n",
    "    print(\"Response Status:\", r)\n",
    "    print('-'*80)"
   ]
  },
  {
   "cell_type": "code",
   "execution_count": null,
   "metadata": {},
   "outputs": [],
   "source": [
    "# make sure cleanup is not triggered automatically\n",
    "raise NotImplementedError"
   ]
  },
  {
   "cell_type": "markdown",
   "metadata": {},
   "source": [
    "# Cleanup SEEK"
   ]
  },
  {
   "cell_type": "code",
   "execution_count": null,
   "metadata": {},
   "outputs": [],
   "source": [
    "# delete datafiles (csv)\n",
    "'''\n",
    "for datafile in csv_datafiles.values():\n",
    "    datafile_id = datafile['data']['id']\n",
    "    print(url)\n",
    "    url = base_url + \"data_files/{}.json\".format(datafile_id)\n",
    "    r = requests.delete(url, headers=headers)\n",
    "    print_response(r.text)\n",
    "'''\n",
    "# delete datafiles (png)\n",
    "for datafile in png_datafiles.values():\n",
    "    datafile_id = datafile['data']['id']\n",
    "    print(url)\n",
    "    url = base_url + \"data_files/{}.json\".format(datafile_id)\n",
    "    r = requests.delete(url, headers=headers)\n",
    "    print_response(r.text)"
   ]
  },
  {
   "cell_type": "code",
   "execution_count": null,
   "metadata": {},
   "outputs": [],
   "source": [
    "for id in range(100, 127):\n",
    "    url = base_url + \"data_files/{}.json\".format(id)\n",
    "    r = requests.delete(url, headers=headers)\n",
    "    print_response(r)"
   ]
  },
  {
   "cell_type": "code",
   "execution_count": null,
   "metadata": {},
   "outputs": [],
   "source": [
    "# delete experimental assays\n",
    "for assay in exp_assays.values():\n",
    "    assay_id = assay['data']['id']\n",
    "    url = base_url + \"assays/{}.json\".format(assay_id)\n",
    "    print(url)\n",
    "    r = requests.delete(url, headers=headers)\n",
    "    print_response(r)  "
   ]
  },
  {
   "cell_type": "code",
   "execution_count": null,
   "metadata": {},
   "outputs": [],
   "source": [
    "# r = requests.delete(base_url + \"assays/13.json\", headers=headers)\n",
    "# print_response(r)  "
   ]
  },
  {
   "cell_type": "code",
   "execution_count": null,
   "metadata": {},
   "outputs": [],
   "source": [
    "# delete study\n",
    "# study_id = study['data']['id']\n",
    "study_id = 12\n",
    "url = base_url + \"studies/{}.json\".format(study_id)\n",
    "print(url)\n",
    "r = requests.delete(url, headers=headers)\n",
    "print_response(r)"
   ]
  },
  {
   "cell_type": "code",
   "execution_count": null,
   "metadata": {},
   "outputs": [],
   "source": []
  }
 ],
 "metadata": {
  "kernelspec": {
   "display_name": "seek",
   "language": "python",
   "name": "seek"
  },
  "language_info": {
   "codemirror_mode": {
    "name": "ipython",
    "version": 3
   },
   "file_extension": ".py",
   "mimetype": "text/x-python",
   "name": "python",
   "nbconvert_exporter": "python",
   "pygments_lexer": "ipython3",
   "version": "3.5.2"
  }
 },
 "nbformat": 4,
 "nbformat_minor": 2
}
