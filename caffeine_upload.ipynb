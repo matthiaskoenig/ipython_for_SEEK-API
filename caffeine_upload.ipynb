{
 "cells": [
  {
   "cell_type": "markdown",
   "metadata": {},
   "source": [
    "# Caffeine pharmacokinetics data in SEEK\n",
    "Upload of file assets to seek via the write/read API. Experimental data sets have been digitized from literature. The respective files are now made available via LiSyM-SEEK.\n",
    "\n",
    "<img src=\"./data_extraction.png\" width=\"500\"/>\n",
    "\n",
    "Proof-of-principle by **Matthias König, Hadas Leonov & Wolfgang Müller** "
   ]
  },
  {
   "cell_type": "code",
   "execution_count": 1,
   "metadata": {},
   "outputs": [],
   "source": [
    "# important ids (seekbeta.lisym.org)\n",
    "\n",
    "# base_url = 'https://seekbeta.lisym.org/'\n",
    "\n",
    "base_url = 'https://seek.lisym.org/'\n",
    "API_TOKEN = open(\"./token\").readline().strip() #\"user:password\" encoded in base64\n",
    "REPLACEMENTS = {\n",
    "    'KOENIG_ID': \"17\",\n",
    "    'PROJECT_ID': \"10\",  # MM-PLF\n",
    "    'INVESTIGATION_ID': \"20\",\n",
    "    'HOMO_SAPIENS': \"950657990\",\n",
    "}\n",
    "\n",
    "\n",
    "#base_url = 'http://localhost:3000/'\n",
    "#API_TOKEN = open(\"./token_localhost\").readline().strip() #\"user:password\" encoded in base64\n",
    "#REPLACEMENTS = {\n",
    "#    'KOENIG_ID': \"1\",\n",
    "#    'PROJECT_ID': \"2\",  # MM-PLF\n",
    "#    'INVESTIGATION_ID': \"1\",\n",
    "#    'HOMO_SAPIENS': \"950657990\",\n",
    "#}"
   ]
  },
  {
   "cell_type": "code",
   "execution_count": 2,
   "metadata": {
    "collapsed": false
   },
   "outputs": [],
   "source": [
    "import requests\n",
    "import json\n",
    "import string\n",
    "from pprint import pprint\n",
    "\n",
    "headers = {\"Authorization\": \"Basic %s\" %API_TOKEN,\n",
    "           \"Content-type\": \"application/vnd.api+json\",\n",
    "           \"Accept\": \"application/vnd.api+json\"}\n",
    "file_upload_headers = headers.copy()\n",
    "# file_upload_headers.pop('Content-type');\n",
    "file_upload_headers['Content-type'] = \"application/octet-stream\";"
   ]
  },
  {
   "cell_type": "code",
   "execution_count": 3,
   "metadata": {
    "collapsed": true
   },
   "outputs": [],
   "source": [
    "def print_response(r, info=False):\n",
    "    print(r.status_code)\n",
    "    response_text = r.text\n",
    "    if (r.ok):\n",
    "        obj = json.loads(response_text)\n",
    "        try: \n",
    "            seek_id = obj['data']['id']\n",
    "        except:\n",
    "            seek_id = '-'\n",
    "        print(\"Returned successfully posted object: <{}>\".format(seek_id))\n",
    "        if info:\n",
    "            pprint(obj)\n",
    "        return obj\n",
    "    else:\n",
    "        print(\"Error: \", r.text)\n",
    "    return None"
   ]
  },
  {
   "cell_type": "code",
   "execution_count": 4,
   "metadata": {
    "collapsed": false
   },
   "outputs": [],
   "source": [
    "def init_json_data(file, replacements=REPLACEMENTS):\n",
    "    json_format = json.load(open(file))\n",
    "    json_data = json.dumps(json_format)\n",
    "    for key, value in replacements.items():\n",
    "        json_data = str.replace(json_data, key, value)\n",
    "    return json_data"
   ]
  },
  {
   "cell_type": "markdown",
   "metadata": {},
   "source": [
    "### Post caffeine study\n",
    "The investigation and project already exist and can be referenced via their respective ids. Now we create a new study for the caffeine data."
   ]
  },
  {
   "cell_type": "code",
   "execution_count": 5,
   "metadata": {
    "collapsed": false
   },
   "outputs": [
    {
     "name": "stdout",
     "output_type": "stream",
     "text": [
      "--------------------------------------------------------------------------------\n",
      "{'data': {'attributes': {'description': 'Pharmacokinetics data set for '\n",
      "                                        'caffeine',\n",
      "                         'experimentalists': '',\n",
      "                         'other_creators': '',\n",
      "                         'person_responsible_id': '17',\n",
      "                         'policy': {'access': 'view',\n",
      "                                    'permissions': [{'access': 'manage',\n",
      "                                                     'resource': {'id': '10',\n",
      "                                                                  'type': 'projects'}}]},\n",
      "                         'title': 'PKDB Caffeine Study'},\n",
      "          'relationships': {'creators': {'data': [{'id': '17',\n",
      "                                                   'type': 'people'}]},\n",
      "                            'investigation': {'data': {'id': '20',\n",
      "                                                       'type': 'investigations'}},\n",
      "                            'publications': {'data': []}},\n",
      "          'type': 'studies'}}\n",
      "--------------------------------------------------------------------------------\n",
      "200\n",
      "Returned successfully posted object: <14>\n"
     ]
    }
   ],
   "source": [
    "study_file = \"./pkdb/json/caffeine_study.json\"\n",
    "url = base_url + \"studies\"\n",
    "json_data = init_json_data(study_file, replacements=REPLACEMENTS)\n",
    "# pprint(json_data)\n",
    "print('-'*80)\n",
    "pprint(json.loads(json_data))\n",
    "print('-'*80)\n",
    "r = requests.post(url, headers=headers, data=json_data)\n",
    "study = print_response(r)"
   ]
  },
  {
   "cell_type": "code",
   "execution_count": 6,
   "metadata": {},
   "outputs": [],
   "source": [
    "# store study id for assays\n",
    "REPLACEMENTS['STUDY_ID'] = study['data']['id']"
   ]
  },
  {
   "cell_type": "markdown",
   "metadata": {},
   "source": [
    "### Experimental assays & Data files\n",
    "Every digitized publication is handled as a separate experimental assay.\n",
    "\n",
    "The corresponding data files (CSV data) are associated as data file to the assay."
   ]
  },
  {
   "cell_type": "code",
   "execution_count": 7,
   "metadata": {},
   "outputs": [
    {
     "name": "stdout",
     "output_type": "stream",
     "text": [
      "{'Akinyinka2000',\n",
      " 'Amchin1999',\n",
      " 'Blanchard1983a',\n",
      " 'Haller2002',\n",
      " 'Healy1991',\n",
      " 'Hetzler1990',\n",
      " 'Jeppesen1996',\n",
      " 'Kakuda2014',\n",
      " 'Kaplan1997',\n",
      " 'Magnusson2008',\n",
      " 'Oh2012',\n",
      " 'Perera2011',\n",
      " 'Spigset1999a',\n",
      " 'Tanaka2014'}\n"
     ]
    }
   ],
   "source": [
    "from os import listdir\n",
    "from os.path import isfile, join\n",
    "data_dir = './pkdb/files/data'\n",
    "files = [f for f in listdir(data_dir) if isfile(join(data_dir, f))]\n",
    "author_ids = set([fname[:-4] for fname in files if fname.endswith('.csv')])\n",
    "pprint(author_ids)"
   ]
  },
  {
   "cell_type": "code",
   "execution_count": 8,
   "metadata": {
    "collapsed": false
   },
   "outputs": [
    {
     "name": "stdout",
     "output_type": "stream",
     "text": [
      "200\n",
      "Returned successfully posted object: <42>\n",
      "200\n",
      "Returned successfully posted object: <43>\n",
      "200\n",
      "Returned successfully posted object: <44>\n",
      "200\n",
      "Returned successfully posted object: <45>\n",
      "200\n",
      "Returned successfully posted object: <46>\n",
      "200\n",
      "Returned successfully posted object: <47>\n",
      "200\n",
      "Returned successfully posted object: <48>\n",
      "200\n",
      "Returned successfully posted object: <49>\n",
      "200\n",
      "Returned successfully posted object: <50>\n",
      "200\n",
      "Returned successfully posted object: <51>\n",
      "200\n",
      "Returned successfully posted object: <52>\n",
      "200\n",
      "Returned successfully posted object: <53>\n",
      "200\n",
      "Returned successfully posted object: <54>\n",
      "500\n",
      "Error:  \n"
     ]
    }
   ],
   "source": [
    "# create all\n",
    "exp_assays = {}\n",
    "for author_id in author_ids:\n",
    "    print('*** ' + author_id + ' ***')\n",
    "    REPLACEMENTS['AUTHOR_ID'] = author_id \n",
    "    REPLACEMENTS['AUTHOR_DESCRIPTION'] = '{} Description'.format(author_id)\n",
    "\n",
    "    assay_file = \"./pkdb/json/caffeine_exp_assay.json\"\n",
    "    url = base_url + \"assays\"\n",
    "    json_data = init_json_data(assay_file)\n",
    "    r = requests.post(url, headers=headers, data=json_data)\n",
    "    assay = print_response(r)\n",
    "    exp_assays[author_id] = assay"
   ]
  },
  {
   "cell_type": "code",
   "execution_count": 9,
   "metadata": {
    "collapsed": false
   },
   "outputs": [
    {
     "name": "stdout",
     "output_type": "stream",
     "text": [
      "*** Kaplan1997 ***\n",
      "200\n",
      "Returned successfully posted object: <186>\n",
      "http://seek.lisym.org/data_files/186/content_blobs/397\n",
      "Response Status: <Response [200]>\n",
      "--------------------------------------------------------------------------------\n",
      "*** Jeppesen1996 ***\n",
      "200\n",
      "Returned successfully posted object: <187>\n",
      "http://seek.lisym.org/data_files/187/content_blobs/398\n",
      "Response Status: <Response [200]>\n",
      "--------------------------------------------------------------------------------\n",
      "*** Tanaka2014 ***\n",
      "200\n",
      "Returned successfully posted object: <188>\n",
      "http://seek.lisym.org/data_files/188/content_blobs/399\n",
      "Response Status: <Response [200]>\n",
      "--------------------------------------------------------------------------------\n",
      "*** Spigset1999a ***\n",
      "200\n",
      "Returned successfully posted object: <189>\n",
      "http://seek.lisym.org/data_files/189/content_blobs/400\n",
      "Response Status: <Response [200]>\n",
      "--------------------------------------------------------------------------------\n",
      "*** Magnusson2008 ***\n",
      "200\n",
      "Returned successfully posted object: <190>\n",
      "http://seek.lisym.org/data_files/190/content_blobs/401\n",
      "Response Status: <Response [200]>\n",
      "--------------------------------------------------------------------------------\n",
      "*** Amchin1999 ***\n",
      "200\n",
      "Returned successfully posted object: <191>\n",
      "http://seek.lisym.org/data_files/191/content_blobs/402\n",
      "Response Status: <Response [200]>\n",
      "--------------------------------------------------------------------------------\n",
      "*** Akinyinka2000 ***\n",
      "200\n",
      "Returned successfully posted object: <192>\n",
      "http://seek.lisym.org/data_files/192/content_blobs/403\n",
      "Response Status: <Response [200]>\n",
      "--------------------------------------------------------------------------------\n",
      "*** Hetzler1990 ***\n",
      "200\n",
      "Returned successfully posted object: <193>\n",
      "http://seek.lisym.org/data_files/193/content_blobs/404\n",
      "Response Status: <Response [200]>\n",
      "--------------------------------------------------------------------------------\n",
      "*** Blanchard1983a ***\n",
      "200\n",
      "Returned successfully posted object: <194>\n",
      "http://seek.lisym.org/data_files/194/content_blobs/405\n",
      "Response Status: <Response [200]>\n",
      "--------------------------------------------------------------------------------\n",
      "*** Perera2011 ***\n",
      "500\n",
      "Error:  \n"
     ]
    },
    {
     "ename": "TypeError",
     "evalue": "'NoneType' object is not subscriptable",
     "output_type": "error",
     "traceback": [
      "\u001b[0;31m---------------------------------------------------------------------------\u001b[0m",
      "\u001b[0;31mTypeError\u001b[0m                                 Traceback (most recent call last)",
      "\u001b[0;32m<ipython-input-9-6a49830f84a8>\u001b[0m in \u001b[0;36m<module>\u001b[0;34m\u001b[0m\n\u001b[1;32m     27\u001b[0m \u001b[0;34m\u001b[0m\u001b[0m\n\u001b[1;32m     28\u001b[0m     \u001b[0mfilepath\u001b[0m \u001b[0;34m=\u001b[0m \u001b[0;34m'./pkdb/files/data/{}.csv'\u001b[0m\u001b[0;34m.\u001b[0m\u001b[0mformat\u001b[0m\u001b[0;34m(\u001b[0m\u001b[0mauthor_id\u001b[0m\u001b[0;34m)\u001b[0m\u001b[0;34m\u001b[0m\u001b[0m\n\u001b[0;32m---> 29\u001b[0;31m     \u001b[0murl\u001b[0m \u001b[0;34m=\u001b[0m \u001b[0mdatafile\u001b[0m\u001b[0;34m[\u001b[0m\u001b[0;34m'data'\u001b[0m\u001b[0;34m]\u001b[0m\u001b[0;34m[\u001b[0m\u001b[0;34m'attributes'\u001b[0m\u001b[0;34m]\u001b[0m\u001b[0;34m[\u001b[0m\u001b[0;34m'content_blobs'\u001b[0m\u001b[0;34m]\u001b[0m\u001b[0;34m[\u001b[0m\u001b[0;36m0\u001b[0m\u001b[0;34m]\u001b[0m\u001b[0;34m[\u001b[0m\u001b[0;34m'link'\u001b[0m\u001b[0;34m]\u001b[0m  \u001b[0;31m# content_blobs array size = 1\u001b[0m\u001b[0;34m\u001b[0m\u001b[0m\n\u001b[0m\u001b[1;32m     30\u001b[0m     \u001b[0;31m# bugfix for incorrect prefix\u001b[0m\u001b[0;34m\u001b[0m\u001b[0;34m\u001b[0m\u001b[0m\n\u001b[1;32m     31\u001b[0m     \u001b[0;31m# url = url.replace('http://seek', 'https://seekbeta')\u001b[0m\u001b[0;34m\u001b[0m\u001b[0;34m\u001b[0m\u001b[0m\n",
      "\u001b[0;31mTypeError\u001b[0m: 'NoneType' object is not subscriptable"
     ]
    }
   ],
   "source": [
    "# -------------\n",
    "# CSV\n",
    "# -------------\n",
    "csv_datafiles = {}\n",
    "for author_id in author_ids:\n",
    "    print('*** ' + author_id + ' ***')\n",
    "    # get the correct assay\n",
    "    assay = exp_assays[author_id]\n",
    "\n",
    "    REPLACEMENTS['ASSAY_ID'] = assay['data']['id']\n",
    "    REPLACEMENTS['AUTHOR_ID'] = author_id \n",
    "    REPLACEMENTS['AUTHOR_DESCRIPTION'] = '{} Description'.format(author_id)\n",
    "    REPLACEMENTS['FILENAME'] = '{}.csv'.format(author_id)\n",
    "    REPLACEMENTS['CONTENT_TYPE'] = 'text/csv'\n",
    "    REPLACEMENTS['TITLE'] = \"CSV ({})\".format(author_id)\n",
    "\n",
    "    # create the metadata\n",
    "    REPLACEMENTS['CONTENT_TYPE'] = \"text/csv\"\n",
    "    df_file = \"./pkdb/json/caffeine_data_file.json\"\n",
    "    url = base_url + \"data_files\"\n",
    "    json_data = init_json_data(df_file)\n",
    "    r = requests.post(url, headers=headers, data=json_data)\n",
    "    datafile = print_response(r)\n",
    "    csv_datafiles[author_id] = datafile\n",
    "\n",
    "    # second, add the file (PUT)\n",
    "    \n",
    "    filepath = './pkdb/files/data/{}.csv'.format(author_id)\n",
    "    url = datafile['data']['attributes']['content_blobs'][0]['link']  # content_blobs array size = 1\n",
    "    # bugfix for incorrect prefix\n",
    "    # url = url.replace('http://seek', 'https://seekbeta')\n",
    "    print(url)\n",
    "    r = requests.put(url, headers=file_upload_headers, data=open(filepath, 'rb'))\n",
    "    print(\"Response Status:\", r)\n",
    "    print('-'*80)"
   ]
  },
  {
   "cell_type": "code",
   "execution_count": 14,
   "metadata": {},
   "outputs": [
    {
     "name": "stdout",
     "output_type": "stream",
     "text": [
      "*** Amchin1999 ***\n",
      "200\n",
      "Returned successfully posted object: <171>\n",
      "http://seek.lisym.org/data_files/171/content_blobs/381\n",
      "Response Status: <Response [200]>\n",
      "--------------------------------------------------------------------------------\n",
      "*** Tanaka2014 ***\n",
      "200\n",
      "Returned successfully posted object: <172>\n",
      "http://seek.lisym.org/data_files/172/content_blobs/382\n",
      "Response Status: <Response [200]>\n",
      "--------------------------------------------------------------------------------\n",
      "*** Perera2011 ***\n",
      "200\n",
      "Returned successfully posted object: <173>\n",
      "http://seek.lisym.org/data_files/173/content_blobs/383\n",
      "Response Status: <Response [200]>\n",
      "--------------------------------------------------------------------------------\n",
      "*** Healy1991 ***\n",
      "200\n",
      "Returned successfully posted object: <174>\n",
      "http://seek.lisym.org/data_files/174/content_blobs/384\n",
      "Response Status: <Response [200]>\n",
      "--------------------------------------------------------------------------------\n",
      "*** Hetzler1990 ***\n",
      "200\n",
      "Returned successfully posted object: <175>\n",
      "http://seek.lisym.org/data_files/175/content_blobs/385\n",
      "Response Status: <Response [200]>\n",
      "--------------------------------------------------------------------------------\n",
      "*** Spigset1999a ***\n",
      "200\n",
      "Returned successfully posted object: <176>\n",
      "http://seek.lisym.org/data_files/176/content_blobs/386\n",
      "Response Status: <Response [200]>\n",
      "--------------------------------------------------------------------------------\n",
      "*** Haller2002 ***\n",
      "200\n",
      "Returned successfully posted object: <177>\n",
      "http://seek.lisym.org/data_files/177/content_blobs/387\n",
      "Response Status: <Response [200]>\n",
      "--------------------------------------------------------------------------------\n",
      "*** Kakuda2014 ***\n",
      "200\n",
      "Returned successfully posted object: <178>\n",
      "http://seek.lisym.org/data_files/178/content_blobs/388\n",
      "Response Status: <Response [200]>\n",
      "--------------------------------------------------------------------------------\n",
      "*** Blanchard1983a ***\n",
      "200\n",
      "Returned successfully posted object: <179>\n",
      "http://seek.lisym.org/data_files/179/content_blobs/389\n",
      "Response Status: <Response [200]>\n",
      "--------------------------------------------------------------------------------\n",
      "*** Oh2012 ***\n",
      "200\n",
      "Returned successfully posted object: <180>\n",
      "http://seek.lisym.org/data_files/180/content_blobs/390\n",
      "Response Status: <Response [200]>\n",
      "--------------------------------------------------------------------------------\n",
      "*** Akinyinka2000 ***\n",
      "200\n",
      "Returned successfully posted object: <181>\n",
      "http://seek.lisym.org/data_files/181/content_blobs/391\n",
      "Response Status: <Response [200]>\n",
      "--------------------------------------------------------------------------------\n",
      "*** Jeppesen1996 ***\n",
      "200\n",
      "Returned successfully posted object: <182>\n",
      "http://seek.lisym.org/data_files/182/content_blobs/392\n",
      "Response Status: <Response [200]>\n",
      "--------------------------------------------------------------------------------\n",
      "*** Kaplan1997 ***\n",
      "200\n",
      "Returned successfully posted object: <183>\n",
      "http://seek.lisym.org/data_files/183/content_blobs/393\n",
      "Response Status: <Response [200]>\n",
      "--------------------------------------------------------------------------------\n",
      "*** Magnusson2008 ***\n",
      "200\n",
      "Returned successfully posted object: <184>\n",
      "http://seek.lisym.org/data_files/184/content_blobs/394\n",
      "Response Status: <Response [200]>\n",
      "--------------------------------------------------------------------------------\n"
     ]
    }
   ],
   "source": [
    "# -------------\n",
    "# PNG\n",
    "# -------------\n",
    "png_datafiles = {}\n",
    "for author_id in author_ids:\n",
    "    print('*** ' + author_id + ' ***')\n",
    "    # get the correct assay\n",
    "    assay = exp_assays[author_id]\n",
    "\n",
    "    REPLACEMENTS['ASSAY_ID'] = assay['data']['id']\n",
    "    REPLACEMENTS['AUTHOR_ID'] = author_id \n",
    "    REPLACEMENTS['AUTHOR_DESCRIPTION'] = '{} Description'.format(author_id)\n",
    "    REPLACEMENTS['FILENAME'] = '{}.png'.format(author_id)\n",
    "    REPLACEMENTS['CONTENT_TYPE'] = 'image/png'\n",
    "    REPLACEMENTS['TITLE'] = \"PNG ({})\".format(author_id)\n",
    "\n",
    "    # create the metadata\n",
    "    REPLACEMENTS['CONTENT_TYPE'] = \"image/png\"\n",
    "    df_file = \"./pkdb/json/caffeine_data_file.json\"\n",
    "    url = base_url + \"data_files\"\n",
    "    json_data = init_json_data(df_file)\n",
    "    r = requests.post(url, headers=headers, data=json_data)\n",
    "    datafile = print_response(r)\n",
    "    png_datafiles[author_id] = datafile\n",
    "\n",
    "    # second, add the file (PUT)\n",
    "    filepath = './pkdb/files/data/{}.png'.format(author_id)\n",
    "    url = datafile['data']['attributes']['content_blobs'][0]['link']  # content_blobs array size = 1\n",
    "    # bugfix for incorrect prefix\n",
    "    # url = url.replace('http://seek', 'https://seekbeta')\n",
    "    print(url)\n",
    "    r = requests.put(url, headers=file_upload_headers, data=open(filepath, 'rb'))\n",
    "    print(\"Response Status:\", r)\n",
    "    print('-'*80)"
   ]
  },
  {
   "cell_type": "code",
   "execution_count": null,
   "metadata": {},
   "outputs": [],
   "source": [
    "# make sure cleanup is not triggered automatically\n",
    "raise NotImplementedError"
   ]
  },
  {
   "cell_type": "markdown",
   "metadata": {},
   "source": [
    "# Cleanup SEEK"
   ]
  },
  {
   "cell_type": "code",
   "execution_count": null,
   "metadata": {},
   "outputs": [],
   "source": [
    "# delete datafiles (csv)\n",
    "'''\n",
    "for datafile in csv_datafiles.values():\n",
    "    datafile_id = datafile['data']['id']\n",
    "    print(url)\n",
    "    url = base_url + \"data_files/{}.json\".format(datafile_id)\n",
    "    r = requests.delete(url, headers=headers)\n",
    "    print_response(r.text)\n",
    "'''\n",
    "# delete datafiles (png)\n",
    "for datafile in png_datafiles.values():\n",
    "    datafile_id = datafile['data']['id']\n",
    "    print(url)\n",
    "    url = base_url + \"data_files/{}.json\".format(datafile_id)\n",
    "    r = requests.delete(url, headers=headers)\n",
    "    print_response(r.text)"
   ]
  },
  {
   "cell_type": "code",
   "execution_count": 11,
   "metadata": {},
   "outputs": [
    {
     "name": "stdout",
     "output_type": "stream",
     "text": [
      "https://seek.lisym.org/data_files/195.json\n",
      "200\n",
      "Returned successfully posted object: <->\n",
      "\n"
     ]
    }
   ],
   "source": [
    "for id in range(195, 196):\n",
    "    url = base_url + \"data_files/{}.json\".format(id)\n",
    "    print(url)\n",
    "    r = requests.delete(url, headers=headers)\n",
    "    print_response(r)\n",
    "    print()"
   ]
  },
  {
   "cell_type": "code",
   "execution_count": null,
   "metadata": {},
   "outputs": [],
   "source": [
    "# delete experimental assays\n",
    "for assay in exp_assays.values():\n",
    "    assay_id = assay['data']['id']\n",
    "    url = base_url + \"assays/{}.json\".format(assay_id)\n",
    "    print(url)\n",
    "    r = requests.delete(url, headers=headers)\n",
    "    print_response(r)  "
   ]
  },
  {
   "cell_type": "code",
   "execution_count": 13,
   "metadata": {},
   "outputs": [
    {
     "name": "stdout",
     "output_type": "stream",
     "text": [
      "https://seek.lisym.org/assays/42.json\n",
      "404\n",
      "Error:  {\"errors\":[{\"title\":\"Not found\",\"detail\":\"Couldn't find Assay with 'id'=42\"}]}\n",
      "\n",
      "https://seek.lisym.org/assays/43.json\n",
      "404\n",
      "Error:  {\"errors\":[{\"title\":\"Not found\",\"detail\":\"Couldn't find Assay with 'id'=43\"}]}\n",
      "\n",
      "https://seek.lisym.org/assays/44.json\n",
      "404\n",
      "Error:  {\"errors\":[{\"title\":\"Not found\",\"detail\":\"Couldn't find Assay with 'id'=44\"}]}\n",
      "\n",
      "https://seek.lisym.org/assays/45.json\n",
      "404\n",
      "Error:  {\"errors\":[{\"title\":\"Not found\",\"detail\":\"Couldn't find Assay with 'id'=45\"}]}\n",
      "\n",
      "https://seek.lisym.org/assays/46.json\n",
      "404\n",
      "Error:  {\"errors\":[{\"title\":\"Not found\",\"detail\":\"Couldn't find Assay with 'id'=46\"}]}\n",
      "\n",
      "https://seek.lisym.org/assays/47.json\n",
      "404\n",
      "Error:  {\"errors\":[{\"title\":\"Not found\",\"detail\":\"Couldn't find Assay with 'id'=47\"}]}\n",
      "\n",
      "https://seek.lisym.org/assays/48.json\n",
      "404\n",
      "Error:  {\"errors\":[{\"title\":\"Not found\",\"detail\":\"Couldn't find Assay with 'id'=48\"}]}\n",
      "\n",
      "https://seek.lisym.org/assays/49.json\n",
      "404\n",
      "Error:  {\"errors\":[{\"title\":\"Not found\",\"detail\":\"Couldn't find Assay with 'id'=49\"}]}\n",
      "\n",
      "https://seek.lisym.org/assays/50.json\n",
      "404\n",
      "Error:  {\"errors\":[{\"title\":\"Not found\",\"detail\":\"Couldn't find Assay with 'id'=50\"}]}\n",
      "\n",
      "https://seek.lisym.org/assays/51.json\n",
      "404\n",
      "Error:  {\"errors\":[{\"title\":\"Not found\",\"detail\":\"Couldn't find Assay with 'id'=51\"}]}\n",
      "\n",
      "https://seek.lisym.org/assays/52.json\n",
      "404\n",
      "Error:  {\"errors\":[{\"title\":\"Not found\",\"detail\":\"Couldn't find Assay with 'id'=52\"}]}\n",
      "\n",
      "https://seek.lisym.org/assays/53.json\n",
      "404\n",
      "Error:  {\"errors\":[{\"title\":\"Not found\",\"detail\":\"Couldn't find Assay with 'id'=53\"}]}\n",
      "\n",
      "https://seek.lisym.org/assays/54.json\n",
      "404\n",
      "Error:  {\"errors\":[{\"title\":\"Not found\",\"detail\":\"Couldn't find Assay with 'id'=54\"}]}\n",
      "\n",
      "https://seek.lisym.org/assays/55.json\n",
      "200\n",
      "Returned successfully posted object: <->\n",
      "\n"
     ]
    }
   ],
   "source": [
    "for id in range(42, 56):\n",
    "    url = base_url + \"assays/{}.json\".format(id)\n",
    "    print(url)\n",
    "    r = requests.delete(url, headers=headers)\n",
    "    print_response(r)\n",
    "    print()"
   ]
  },
  {
   "cell_type": "code",
   "execution_count": 14,
   "metadata": {},
   "outputs": [
    {
     "name": "stdout",
     "output_type": "stream",
     "text": [
      "https://seek.lisym.org/studies/14.json\n",
      "200\n",
      "Returned successfully posted object: <->\n"
     ]
    },
    {
     "data": {
      "text/plain": [
       "{'status': 'ok'}"
      ]
     },
     "execution_count": 14,
     "metadata": {},
     "output_type": "execute_result"
    }
   ],
   "source": [
    "# delete study\n",
    "# study_id = study['data']['id']\n",
    "study_id = 14\n",
    "url = base_url + \"studies/{}.json\".format(study_id)\n",
    "print(url)\n",
    "r = requests.delete(url, headers=headers)\n",
    "print_response(r)"
   ]
  },
  {
   "cell_type": "code",
   "execution_count": null,
   "metadata": {},
   "outputs": [],
   "source": []
  }
 ],
 "metadata": {
  "kernelspec": {
   "display_name": "seek",
   "language": "python",
   "name": "seek"
  },
  "language_info": {
   "codemirror_mode": {
    "name": "ipython",
    "version": 3
   },
   "file_extension": ".py",
   "mimetype": "text/x-python",
   "name": "python",
   "nbconvert_exporter": "python",
   "pygments_lexer": "ipython3",
   "version": "3.5.2"
  }
 },
 "nbformat": 4,
 "nbformat_minor": 2
}
