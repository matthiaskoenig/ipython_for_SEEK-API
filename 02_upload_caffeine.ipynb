{
 "cells": [
  {
   "cell_type": "markdown",
   "metadata": {},
   "source": [
    "# Caffeine pharmacokinetics data in SEEK\n",
    "Upload of file assets to seek via the write/read API. Experimental data sets have been digitized from literature. The respective files are now made available via LiSyM-SEEK.\n",
    "\n",
    "<img src=\"./data_extraction.png\" width=\"500\"/>\n",
    "\n",
    "Proof-of-principle by **Matthias König, Hadas Leonov & Wolfgang Müller** "
   ]
  },
  {
   "cell_type": "code",
   "execution_count": 1,
   "metadata": {},
   "outputs": [],
   "source": [
    "# important ids (seekbeta.lisym.org)\n",
    "\n",
    "# base_url = 'https://seekbeta.lisym.org/'\n",
    "\n",
    "base_url = 'https://seek.lisym.org/'\n",
    "API_TOKEN = open(\"./token\").readline().strip() #\"user:password\" encoded in base64\n",
    "REPLACEMENTS = {\n",
    "    'KOENIG_ID': \"17\",\n",
    "    'PROJECT_ID': \"10\",  # MM-PLF\n",
    "    'INVESTIGATION_ID': \"20\",\n",
    "    'HOMO_SAPIENS': \"950657990\",\n",
    "}\n",
    "\n",
    "\n",
    "#base_url = 'http://localhost:3000/'\n",
    "#API_TOKEN = open(\"./token_localhost\").readline().strip() #\"user:password\" encoded in base64\n",
    "#REPLACEMENTS = {\n",
    "#    'KOENIG_ID': \"1\",\n",
    "#    'PROJECT_ID': \"2\",  # MM-PLF\n",
    "#    'INVESTIGATION_ID': \"1\",\n",
    "#    'HOMO_SAPIENS': \"950657990\",\n",
    "#}"
   ]
  },
  {
   "cell_type": "code",
   "execution_count": 16,
   "metadata": {
    "collapsed": false
   },
   "outputs": [],
   "source": [
    "import time\n",
    "import requests\n",
    "import json\n",
    "import string\n",
    "from pprint import pprint\n",
    "\n",
    "headers = {\"Authorization\": \"Basic %s\" %API_TOKEN,\n",
    "           \"Content-type\": \"application/vnd.api+json\",\n",
    "           \"Accept\": \"application/vnd.api+json\"}\n",
    "file_upload_headers = headers.copy()\n",
    "# file_upload_headers.pop('Content-type');\n",
    "file_upload_headers['Content-type'] = \"application/octet-stream\";"
   ]
  },
  {
   "cell_type": "code",
   "execution_count": 21,
   "metadata": {
    "collapsed": true
   },
   "outputs": [],
   "source": [
    "def print_response(r, info=False):\n",
    "    print(r.status_code)\n",
    "    \n",
    "    # bugfix for mysql database\n",
    "    time.sleep(1.0)\n",
    "    \n",
    "    response_text = r.text\n",
    "    if (r.ok):\n",
    "        obj = json.loads(response_text)\n",
    "        try: \n",
    "            seek_id = obj['data']['id']\n",
    "        except:\n",
    "            seek_id = '-'\n",
    "        print(\"Returned successfully posted object: <{}>\".format(seek_id))\n",
    "        if info:\n",
    "            pprint(obj)\n",
    "        return obj\n",
    "    else:\n",
    "        print(\"Error: \", r.text)\n",
    "    \n",
    "    return None"
   ]
  },
  {
   "cell_type": "code",
   "execution_count": 4,
   "metadata": {
    "collapsed": false
   },
   "outputs": [],
   "source": [
    "def init_json_data(file, replacements=REPLACEMENTS):\n",
    "    json_format = json.load(open(file))\n",
    "    json_data = json.dumps(json_format)\n",
    "    for key, value in replacements.items():\n",
    "        json_data = str.replace(json_data, key, value)\n",
    "    return json_data"
   ]
  },
  {
   "cell_type": "markdown",
   "metadata": {},
   "source": [
    "### Post caffeine study\n",
    "The investigation and project already exist and can be referenced via their respective ids. Now we create a new study for the caffeine data."
   ]
  },
  {
   "cell_type": "code",
   "execution_count": 7,
   "metadata": {
    "collapsed": false
   },
   "outputs": [
    {
     "name": "stdout",
     "output_type": "stream",
     "text": [
      "--------------------------------------------------------------------------------\n",
      "{'data': {'attributes': {'description': 'Pharmacokinetics data set for '\n",
      "                                        'caffeine',\n",
      "                         'experimentalists': '',\n",
      "                         'other_creators': '',\n",
      "                         'person_responsible_id': '17',\n",
      "                         'policy': {'access': 'view',\n",
      "                                    'permissions': [{'access': 'manage',\n",
      "                                                     'resource': {'id': '10',\n",
      "                                                                  'type': 'projects'}}]},\n",
      "                         'title': 'PKDB Caffeine Study'},\n",
      "          'relationships': {'creators': {'data': [{'id': '17',\n",
      "                                                   'type': 'people'}]},\n",
      "                            'investigation': {'data': {'id': '20',\n",
      "                                                       'type': 'investigations'}},\n",
      "                            'publications': {'data': []}},\n",
      "          'type': 'studies'}}\n",
      "--------------------------------------------------------------------------------\n",
      "200\n",
      "Returned successfully posted object: <17>\n"
     ]
    }
   ],
   "source": [
    "study_file = \"./pkdb/json/caffeine_study.json\"\n",
    "url = base_url + \"studies\"\n",
    "json_data = init_json_data(study_file, replacements=REPLACEMENTS)\n",
    "# pprint(json_data)\n",
    "print('-'*80)\n",
    "pprint(json.loads(json_data))\n",
    "print('-'*80)\n",
    "r = requests.post(url, headers=headers, data=json_data)\n",
    "study = print_response(r)"
   ]
  },
  {
   "cell_type": "code",
   "execution_count": 8,
   "metadata": {},
   "outputs": [],
   "source": [
    "# store study id for assays\n",
    "REPLACEMENTS['STUDY_ID'] = study['data']['id']"
   ]
  },
  {
   "cell_type": "markdown",
   "metadata": {},
   "source": [
    "### Experimental assays & Data files\n",
    "Every digitized publication is handled as a separate experimental assay.\n",
    "\n",
    "The corresponding data files (CSV data) are associated as data file to the assay."
   ]
  },
  {
   "cell_type": "code",
   "execution_count": 9,
   "metadata": {},
   "outputs": [
    {
     "name": "stdout",
     "output_type": "stream",
     "text": [
      "{'Akinyinka2000',\n",
      " 'Amchin1999',\n",
      " 'Blanchard1983a',\n",
      " 'Haller2002',\n",
      " 'Healy1991',\n",
      " 'Hetzler1990',\n",
      " 'Jeppesen1996',\n",
      " 'Kakuda2014',\n",
      " 'Kaplan1997',\n",
      " 'Magnusson2008',\n",
      " 'Oh2012',\n",
      " 'Perera2011',\n",
      " 'Spigset1999a',\n",
      " 'Tanaka2014'}\n"
     ]
    }
   ],
   "source": [
    "from os import listdir\n",
    "from os.path import isfile, join\n",
    "data_dir = './pkdb/files/data'\n",
    "files = [f for f in listdir(data_dir) if isfile(join(data_dir, f))]\n",
    "author_ids = set([fname[:-4] for fname in files if fname.endswith('.csv')])\n",
    "pprint(author_ids)"
   ]
  },
  {
   "cell_type": "code",
   "execution_count": 10,
   "metadata": {
    "collapsed": false
   },
   "outputs": [
    {
     "name": "stdout",
     "output_type": "stream",
     "text": [
      "*** Spigset1999a ***\n",
      "200\n",
      "Returned successfully posted object: <84>\n",
      "*** Kaplan1997 ***\n",
      "200\n",
      "Returned successfully posted object: <85>\n",
      "*** Jeppesen1996 ***\n",
      "200\n",
      "Returned successfully posted object: <86>\n",
      "*** Hetzler1990 ***\n",
      "200\n",
      "Returned successfully posted object: <87>\n",
      "*** Amchin1999 ***\n",
      "200\n",
      "Returned successfully posted object: <88>\n",
      "*** Perera2011 ***\n",
      "200\n",
      "Returned successfully posted object: <89>\n",
      "*** Kakuda2014 ***\n",
      "200\n",
      "Returned successfully posted object: <90>\n",
      "*** Tanaka2014 ***\n",
      "200\n",
      "Returned successfully posted object: <91>\n",
      "*** Blanchard1983a ***\n",
      "200\n",
      "Returned successfully posted object: <92>\n",
      "*** Magnusson2008 ***\n",
      "200\n",
      "Returned successfully posted object: <93>\n",
      "*** Haller2002 ***\n",
      "200\n",
      "Returned successfully posted object: <94>\n",
      "*** Healy1991 ***\n",
      "200\n",
      "Returned successfully posted object: <95>\n",
      "*** Akinyinka2000 ***\n",
      "200\n",
      "Returned successfully posted object: <96>\n",
      "*** Oh2012 ***\n",
      "200\n",
      "Returned successfully posted object: <97>\n"
     ]
    }
   ],
   "source": [
    "# create all\n",
    "exp_assays = {}\n",
    "for author_id in author_ids:\n",
    "    print('*** ' + author_id + ' ***')\n",
    "    REPLACEMENTS['AUTHOR_ID'] = author_id \n",
    "    REPLACEMENTS['AUTHOR_DESCRIPTION'] = '{} Description'.format(author_id)\n",
    "\n",
    "    assay_file = \"./pkdb/json/caffeine_exp_assay.json\"\n",
    "    url = base_url + \"assays\"\n",
    "    json_data = init_json_data(assay_file)\n",
    "    r = requests.post(url, headers=headers, data=json_data)\n",
    "    assay = print_response(r)\n",
    "    exp_assays[author_id] = assay"
   ]
  },
  {
   "cell_type": "code",
   "execution_count": 11,
   "metadata": {
    "collapsed": false
   },
   "outputs": [
    {
     "name": "stdout",
     "output_type": "stream",
     "text": [
      "*** Spigset1999a ***\n",
      "200\n",
      "Returned successfully posted object: <204>\n",
      "http://seek.lisym.org/data_files/204/content_blobs/424\n",
      "Response Status: <Response [200]>\n",
      "--------------------------------------------------------------------------------\n",
      "*** Kaplan1997 ***\n",
      "200\n",
      "Returned successfully posted object: <205>\n",
      "http://seek.lisym.org/data_files/205/content_blobs/425\n",
      "Response Status: <Response [200]>\n",
      "--------------------------------------------------------------------------------\n",
      "*** Jeppesen1996 ***\n",
      "200\n",
      "Returned successfully posted object: <206>\n",
      "http://seek.lisym.org/data_files/206/content_blobs/426\n",
      "Response Status: <Response [200]>\n",
      "--------------------------------------------------------------------------------\n",
      "*** Hetzler1990 ***\n",
      "200\n",
      "Returned successfully posted object: <207>\n",
      "http://seek.lisym.org/data_files/207/content_blobs/427\n",
      "Response Status: <Response [200]>\n",
      "--------------------------------------------------------------------------------\n",
      "*** Amchin1999 ***\n",
      "200\n",
      "Returned successfully posted object: <208>\n",
      "http://seek.lisym.org/data_files/208/content_blobs/428\n",
      "Response Status: <Response [200]>\n",
      "--------------------------------------------------------------------------------\n",
      "*** Perera2011 ***\n",
      "200\n",
      "Returned successfully posted object: <209>\n",
      "http://seek.lisym.org/data_files/209/content_blobs/429\n",
      "Response Status: <Response [200]>\n",
      "--------------------------------------------------------------------------------\n",
      "*** Kakuda2014 ***\n",
      "200\n",
      "Returned successfully posted object: <210>\n",
      "http://seek.lisym.org/data_files/210/content_blobs/430\n",
      "Response Status: <Response [200]>\n",
      "--------------------------------------------------------------------------------\n",
      "*** Tanaka2014 ***\n",
      "200\n",
      "Returned successfully posted object: <211>\n",
      "http://seek.lisym.org/data_files/211/content_blobs/431\n",
      "Response Status: <Response [200]>\n",
      "--------------------------------------------------------------------------------\n",
      "*** Blanchard1983a ***\n",
      "200\n",
      "Returned successfully posted object: <212>\n",
      "http://seek.lisym.org/data_files/212/content_blobs/432\n",
      "Response Status: <Response [200]>\n",
      "--------------------------------------------------------------------------------\n",
      "*** Magnusson2008 ***\n",
      "200\n",
      "Returned successfully posted object: <213>\n",
      "http://seek.lisym.org/data_files/213/content_blobs/433\n",
      "Response Status: <Response [200]>\n",
      "--------------------------------------------------------------------------------\n",
      "*** Haller2002 ***\n",
      "200\n",
      "Returned successfully posted object: <214>\n",
      "http://seek.lisym.org/data_files/214/content_blobs/434\n",
      "Response Status: <Response [200]>\n",
      "--------------------------------------------------------------------------------\n",
      "*** Healy1991 ***\n",
      "200\n",
      "Returned successfully posted object: <215>\n",
      "http://seek.lisym.org/data_files/215/content_blobs/435\n",
      "Response Status: <Response [200]>\n",
      "--------------------------------------------------------------------------------\n",
      "*** Akinyinka2000 ***\n",
      "200\n",
      "Returned successfully posted object: <216>\n",
      "http://seek.lisym.org/data_files/216/content_blobs/436\n",
      "Response Status: <Response [200]>\n",
      "--------------------------------------------------------------------------------\n",
      "*** Oh2012 ***\n",
      "200\n",
      "Returned successfully posted object: <217>\n",
      "http://seek.lisym.org/data_files/217/content_blobs/437\n",
      "Response Status: <Response [200]>\n",
      "--------------------------------------------------------------------------------\n"
     ]
    }
   ],
   "source": [
    "# -------------\n",
    "# CSV\n",
    "# -------------\n",
    "csv_datafiles = {}\n",
    "for author_id in author_ids:\n",
    "    print('*** ' + author_id + ' ***')\n",
    "    # get the correct assay\n",
    "    assay = exp_assays[author_id]\n",
    "\n",
    "    REPLACEMENTS['ASSAY_ID'] = assay['data']['id']\n",
    "    REPLACEMENTS['AUTHOR_ID'] = author_id \n",
    "    REPLACEMENTS['AUTHOR_DESCRIPTION'] = '{} Description'.format(author_id)\n",
    "    REPLACEMENTS['FILENAME'] = '{}.csv'.format(author_id)\n",
    "    REPLACEMENTS['CONTENT_TYPE'] = 'text/csv'\n",
    "    REPLACEMENTS['TITLE'] = \"CSV ({})\".format(author_id)\n",
    "\n",
    "    # create the metadata\n",
    "    REPLACEMENTS['CONTENT_TYPE'] = \"text/csv\"\n",
    "    df_file = \"./pkdb/json/caffeine_data_file.json\"\n",
    "    url = base_url + \"data_files\"\n",
    "    json_data = init_json_data(df_file)\n",
    "    r = requests.post(url, headers=headers, data=json_data)\n",
    "    datafile = print_response(r)\n",
    "    csv_datafiles[author_id] = datafile\n",
    "\n",
    "    # second, add the file (PUT)\n",
    "    \n",
    "    filepath = './pkdb/files/data/{}.csv'.format(author_id)\n",
    "    url = datafile['data']['attributes']['content_blobs'][0]['link']  # content_blobs array size = 1\n",
    "    # bugfix for incorrect prefix\n",
    "    # url = url.replace('http://seek', 'https://seekbeta')\n",
    "    print(url)\n",
    "    r = requests.put(url, headers=file_upload_headers, data=open(filepath, 'rb'))\n",
    "    print(\"Response Status:\", r)\n",
    "    print('-'*80)"
   ]
  },
  {
   "cell_type": "code",
   "execution_count": 25,
   "metadata": {},
   "outputs": [
    {
     "name": "stdout",
     "output_type": "stream",
     "text": [
      "*** Spigset1999a ***\n",
      "200\n",
      "Returned successfully posted object: <243>\n",
      "http://seek.lisym.org/data_files/243/content_blobs/463\n",
      "Response Status: <Response [200]>\n",
      "--------------------------------------------------------------------------------\n",
      "*** Kaplan1997 ***\n",
      "200\n",
      "Returned successfully posted object: <244>\n",
      "http://seek.lisym.org/data_files/244/content_blobs/464\n",
      "Response Status: <Response [200]>\n",
      "--------------------------------------------------------------------------------\n",
      "*** Jeppesen1996 ***\n",
      "200\n",
      "Returned successfully posted object: <245>\n",
      "http://seek.lisym.org/data_files/245/content_blobs/465\n",
      "Response Status: <Response [200]>\n",
      "--------------------------------------------------------------------------------\n",
      "*** Hetzler1990 ***\n",
      "200\n",
      "Returned successfully posted object: <246>\n",
      "http://seek.lisym.org/data_files/246/content_blobs/466\n",
      "Response Status: <Response [200]>\n",
      "--------------------------------------------------------------------------------\n",
      "*** Amchin1999 ***\n",
      "200\n",
      "Returned successfully posted object: <247>\n",
      "http://seek.lisym.org/data_files/247/content_blobs/467\n",
      "Response Status: <Response [200]>\n",
      "--------------------------------------------------------------------------------\n",
      "*** Perera2011 ***\n",
      "200\n",
      "Returned successfully posted object: <248>\n",
      "http://seek.lisym.org/data_files/248/content_blobs/468\n",
      "Response Status: <Response [200]>\n",
      "--------------------------------------------------------------------------------\n",
      "*** Kakuda2014 ***\n",
      "200\n",
      "Returned successfully posted object: <249>\n",
      "http://seek.lisym.org/data_files/249/content_blobs/469\n",
      "Response Status: <Response [200]>\n",
      "--------------------------------------------------------------------------------\n",
      "*** Tanaka2014 ***\n",
      "200\n",
      "Returned successfully posted object: <250>\n",
      "http://seek.lisym.org/data_files/250/content_blobs/470\n",
      "Response Status: <Response [200]>\n",
      "--------------------------------------------------------------------------------\n",
      "*** Blanchard1983a ***\n",
      "200\n",
      "Returned successfully posted object: <251>\n",
      "http://seek.lisym.org/data_files/251/content_blobs/471\n",
      "Response Status: <Response [200]>\n",
      "--------------------------------------------------------------------------------\n",
      "*** Magnusson2008 ***\n",
      "200\n",
      "Returned successfully posted object: <252>\n",
      "http://seek.lisym.org/data_files/252/content_blobs/472\n",
      "Response Status: <Response [200]>\n",
      "--------------------------------------------------------------------------------\n",
      "*** Haller2002 ***\n",
      "200\n",
      "Returned successfully posted object: <253>\n",
      "http://seek.lisym.org/data_files/253/content_blobs/473\n",
      "Response Status: <Response [200]>\n",
      "--------------------------------------------------------------------------------\n",
      "*** Healy1991 ***\n",
      "200\n",
      "Returned successfully posted object: <254>\n",
      "http://seek.lisym.org/data_files/254/content_blobs/474\n",
      "Response Status: <Response [200]>\n",
      "--------------------------------------------------------------------------------\n",
      "*** Akinyinka2000 ***\n",
      "200\n",
      "Returned successfully posted object: <255>\n",
      "http://seek.lisym.org/data_files/255/content_blobs/475\n",
      "Response Status: <Response [200]>\n",
      "--------------------------------------------------------------------------------\n",
      "*** Oh2012 ***\n",
      "200\n",
      "Returned successfully posted object: <256>\n",
      "http://seek.lisym.org/data_files/256/content_blobs/476\n",
      "Response Status: <Response [200]>\n",
      "--------------------------------------------------------------------------------\n"
     ]
    }
   ],
   "source": [
    "# -------------\n",
    "# PNG\n",
    "# -------------\n",
    "png_datafiles = {}\n",
    "for author_id in author_ids:\n",
    "    print('*** ' + author_id + ' ***')\n",
    "    # get the correct assay\n",
    "    assay = exp_assays[author_id]\n",
    "\n",
    "    REPLACEMENTS['ASSAY_ID'] = assay['data']['id']\n",
    "    REPLACEMENTS['AUTHOR_ID'] = author_id \n",
    "    REPLACEMENTS['AUTHOR_DESCRIPTION'] = '{} Description'.format(author_id)\n",
    "    REPLACEMENTS['FILENAME'] = '{}.png'.format(author_id)\n",
    "    REPLACEMENTS['CONTENT_TYPE'] = 'image/png'\n",
    "    REPLACEMENTS['TITLE'] = \"PNG ({})\".format(author_id)\n",
    "\n",
    "    # create the metadata\n",
    "    REPLACEMENTS['CONTENT_TYPE'] = \"image/png\"\n",
    "    df_file = \"./pkdb/json/caffeine_data_file.json\"\n",
    "    url = base_url + \"data_files\"\n",
    "    json_data = init_json_data(df_file)\n",
    "    r = requests.post(url, headers=headers, data=json_data)\n",
    "    datafile = print_response(r)\n",
    "    png_datafiles[author_id] = datafile\n",
    "\n",
    "    # second, add the file (PUT)\n",
    "    filepath = './pkdb/files/data/{}.png'.format(author_id)\n",
    "    url = datafile['data']['attributes']['content_blobs'][0]['link']  # content_blobs array size = 1\n",
    "    # bugfix for incorrect prefix\n",
    "    # url = url.replace('http://seek', 'https://seekbeta')\n",
    "    print(url)\n",
    "    r = requests.put(url, headers=file_upload_headers, data=open(filepath, 'rb'))\n",
    "    print(\"Response Status:\", r)\n",
    "    print('-'*80)\n",
    "    time.sleep(1)  # sleep another second for the database"
   ]
  },
  {
   "cell_type": "code",
   "execution_count": null,
   "metadata": {},
   "outputs": [],
   "source": [
    "# make sure cleanup is not triggered automatically\n",
    "raise NotImplementedError"
   ]
  },
  {
   "cell_type": "markdown",
   "metadata": {},
   "source": [
    "# Cleanup SEEK"
   ]
  },
  {
   "cell_type": "code",
   "execution_count": null,
   "metadata": {},
   "outputs": [],
   "source": [
    "# delete datafiles (csv)\n",
    "'''\n",
    "for datafile in csv_datafiles.values():\n",
    "    datafile_id = datafile['data']['id']\n",
    "    print(url)\n",
    "    url = base_url + \"data_files/{}.json\".format(datafile_id)\n",
    "    r = requests.delete(url, headers=headers)\n",
    "    print_response(r.text)\n",
    "'''\n",
    "# delete datafiles (png)\n",
    "for datafile in png_datafiles.values():\n",
    "    datafile_id = datafile['data']['id']\n",
    "    print(url)\n",
    "    url = base_url + \"data_files/{}.json\".format(datafile_id)\n",
    "    r = requests.delete(url, headers=headers)\n",
    "    print_response(r.text)"
   ]
  },
  {
   "cell_type": "code",
   "execution_count": 28,
   "metadata": {},
   "outputs": [
    {
     "name": "stdout",
     "output_type": "stream",
     "text": [
      "https://seek.lisym.org/data_files/235.json\n",
      "200\n",
      "Returned successfully posted object: <->\n",
      "\n"
     ]
    }
   ],
   "source": [
    "for id in range(235, 236):\n",
    "    url = base_url + \"data_files/{}.json\".format(id)\n",
    "    print(url)\n",
    "    r = requests.delete(url, headers=headers)\n",
    "    print_response(r)\n",
    "    print()"
   ]
  },
  {
   "cell_type": "code",
   "execution_count": null,
   "metadata": {},
   "outputs": [],
   "source": [
    "# delete experimental assays\n",
    "for assay in exp_assays.values():\n",
    "    assay_id = assay['data']['id']\n",
    "    url = base_url + \"assays/{}.json\".format(assay_id)\n",
    "    print(url)\n",
    "    r = requests.delete(url, headers=headers)\n",
    "    print_response(r)  "
   ]
  },
  {
   "cell_type": "code",
   "execution_count": 5,
   "metadata": {},
   "outputs": [
    {
     "name": "stdout",
     "output_type": "stream",
     "text": [
      "https://seek.lisym.org/assays/70.json\n",
      "200\n",
      "Returned successfully posted object: <->\n",
      "\n",
      "https://seek.lisym.org/assays/71.json\n",
      "200\n",
      "Returned successfully posted object: <->\n",
      "\n",
      "https://seek.lisym.org/assays/72.json\n",
      "200\n",
      "Returned successfully posted object: <->\n",
      "\n",
      "https://seek.lisym.org/assays/73.json\n",
      "200\n",
      "Returned successfully posted object: <->\n",
      "\n",
      "https://seek.lisym.org/assays/74.json\n",
      "200\n",
      "Returned successfully posted object: <->\n",
      "\n",
      "https://seek.lisym.org/assays/75.json\n",
      "200\n",
      "Returned successfully posted object: <->\n",
      "\n",
      "https://seek.lisym.org/assays/76.json\n",
      "200\n",
      "Returned successfully posted object: <->\n",
      "\n",
      "https://seek.lisym.org/assays/77.json\n",
      "200\n",
      "Returned successfully posted object: <->\n",
      "\n",
      "https://seek.lisym.org/assays/78.json\n",
      "200\n",
      "Returned successfully posted object: <->\n",
      "\n",
      "https://seek.lisym.org/assays/79.json\n",
      "200\n",
      "Returned successfully posted object: <->\n",
      "\n",
      "https://seek.lisym.org/assays/80.json\n",
      "200\n",
      "Returned successfully posted object: <->\n",
      "\n",
      "https://seek.lisym.org/assays/81.json\n",
      "200\n",
      "Returned successfully posted object: <->\n",
      "\n",
      "https://seek.lisym.org/assays/82.json\n",
      "200\n",
      "Returned successfully posted object: <->\n",
      "\n",
      "https://seek.lisym.org/assays/83.json\n",
      "200\n",
      "Returned successfully posted object: <->\n",
      "\n"
     ]
    }
   ],
   "source": [
    "for id in range(70, 84):\n",
    "    url = base_url + \"assays/{}.json\".format(id)\n",
    "    print(url)\n",
    "    r = requests.delete(url, headers=headers)\n",
    "    print_response(r)\n",
    "    print()"
   ]
  },
  {
   "cell_type": "code",
   "execution_count": 6,
   "metadata": {},
   "outputs": [
    {
     "name": "stdout",
     "output_type": "stream",
     "text": [
      "https://seek.lisym.org/studies/16.json\n",
      "200\n",
      "Returned successfully posted object: <->\n"
     ]
    },
    {
     "data": {
      "text/plain": [
       "{'status': 'ok'}"
      ]
     },
     "execution_count": 6,
     "metadata": {},
     "output_type": "execute_result"
    }
   ],
   "source": [
    "# delete study\n",
    "# study_id = study['data']['id']\n",
    "study_id = 16\n",
    "url = base_url + \"studies/{}.json\".format(study_id)\n",
    "print(url)\n",
    "r = requests.delete(url, headers=headers)\n",
    "print_response(r)"
   ]
  },
  {
   "cell_type": "code",
   "execution_count": null,
   "metadata": {},
   "outputs": [],
   "source": []
  }
 ],
 "metadata": {
  "kernelspec": {
   "display_name": "seek",
   "language": "python",
   "name": "seek"
  },
  "language_info": {
   "codemirror_mode": {
    "name": "ipython",
    "version": 3
   },
   "file_extension": ".py",
   "mimetype": "text/x-python",
   "name": "python",
   "nbconvert_exporter": "python",
   "pygments_lexer": "ipython3",
   "version": "3.5.2"
  }
 },
 "nbformat": 4,
 "nbformat_minor": 2
}
